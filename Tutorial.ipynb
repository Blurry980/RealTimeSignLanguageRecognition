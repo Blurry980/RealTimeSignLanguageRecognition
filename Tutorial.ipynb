{
 "cells": [
  {
   "cell_type": "markdown",
   "metadata": {},
   "source": [
    "Resources Used\n",
    "- wget.download('https://tensorflow-object-detection-api-tutorial.readthedocs.io/en/latest/_downloads/da4babe668a8afb093cc7776d7e630f3/generate_tfrecord.py')\n",
    "- Setup https://tensorflow-object-detection-api-tutorial.readthedocs.io/en/latest/install.html"
   ]
  },
  {
   "cell_type": "markdown",
   "metadata": {},
   "source": [
    "# 0. Setup Paths"
   ]
  },
  {
   "cell_type": "code",
   "execution_count": 11,
   "metadata": {},
   "outputs": [
    {
     "name": "stdout",
     "output_type": "stream",
     "text": [
      "Collecting object_detection\n",
      "  Downloading object_detection-0.0.3-py3-none-any.whl (1.5 MB)\n",
      "     ---------------------------------------- 0.0/1.5 MB ? eta -:--:--\n",
      "     ----- ---------------------------------- 0.2/1.5 MB 6.3 MB/s eta 0:00:01\n",
      "     ---------------------- ----------------- 0.8/1.5 MB 8.8 MB/s eta 0:00:01\n",
      "     ---------------------------------------  1.5/1.5 MB 11.8 MB/s eta 0:00:01\n",
      "     ---------------------------------------- 1.5/1.5 MB 9.5 MB/s eta 0:00:00\n",
      "Requirement already satisfied: lxml in c:\\users\\jmcoa\\anaconda3\\envs\\tf_env2\\lib\\site-packages (from object_detection) (4.9.1)\n",
      "Requirement already satisfied: tensorflow in c:\\users\\jmcoa\\anaconda3\\envs\\tf_env2\\lib\\site-packages (from object_detection) (2.10.0)\n",
      "Requirement already satisfied: pillow in c:\\users\\jmcoa\\anaconda3\\envs\\tf_env2\\lib\\site-packages (from object_detection) (9.4.0)\n",
      "Collecting matplotlib\n",
      "  Downloading matplotlib-3.7.1-cp310-cp310-win_amd64.whl (7.6 MB)\n",
      "     ---------------------------------------- 0.0/7.6 MB ? eta -:--:--\n",
      "     --------------- ------------------------ 2.9/7.6 MB 62.1 MB/s eta 0:00:01\n",
      "     ----------------------------- ---------- 5.7/7.6 MB 60.9 MB/s eta 0:00:01\n",
      "     ----------------------------------- ---- 6.7/7.6 MB 47.9 MB/s eta 0:00:01\n",
      "     ---------------------------------------  7.6/7.6 MB 48.8 MB/s eta 0:00:01\n",
      "     ---------------------------------------- 7.6/7.6 MB 37.5 MB/s eta 0:00:00\n",
      "Collecting contextlib2\n",
      "  Using cached contextlib2-21.6.0-py2.py3-none-any.whl (13 kB)\n",
      "Collecting Cython\n",
      "  Using cached Cython-0.29.33-py2.py3-none-any.whl (987 kB)\n",
      "Requirement already satisfied: jupyter in c:\\users\\jmcoa\\anaconda3\\envs\\tf_env2\\lib\\site-packages (from object_detection) (1.0.0)\n",
      "Requirement already satisfied: qtconsole in c:\\users\\jmcoa\\anaconda3\\envs\\tf_env2\\lib\\site-packages (from jupyter->object_detection) (5.4.0)\n",
      "Requirement already satisfied: ipywidgets in c:\\users\\jmcoa\\anaconda3\\envs\\tf_env2\\lib\\site-packages (from jupyter->object_detection) (7.6.5)\n",
      "Requirement already satisfied: nbconvert in c:\\users\\jmcoa\\anaconda3\\envs\\tf_env2\\lib\\site-packages (from jupyter->object_detection) (6.5.4)\n",
      "Requirement already satisfied: notebook in c:\\users\\jmcoa\\anaconda3\\envs\\tf_env2\\lib\\site-packages (from jupyter->object_detection) (6.5.2)\n",
      "Requirement already satisfied: jupyter-console in c:\\users\\jmcoa\\anaconda3\\envs\\tf_env2\\lib\\site-packages (from jupyter->object_detection) (6.6.2)\n",
      "Requirement already satisfied: ipykernel in c:\\users\\jmcoa\\anaconda3\\envs\\tf_env2\\lib\\site-packages (from jupyter->object_detection) (6.19.2)\n",
      "Collecting pyparsing>=2.3.1\n",
      "  Using cached pyparsing-3.0.9-py3-none-any.whl (98 kB)\n",
      "Collecting cycler>=0.10\n",
      "  Using cached cycler-0.11.0-py3-none-any.whl (6.4 kB)\n",
      "Collecting kiwisolver>=1.0.1\n",
      "  Downloading kiwisolver-1.4.4-cp310-cp310-win_amd64.whl (55 kB)\n",
      "     ---------------------------------------- 0.0/55.3 kB ? eta -:--:--\n",
      "     ---------------------------------------- 55.3/55.3 kB ? eta 0:00:00\n",
      "Requirement already satisfied: packaging>=20.0 in c:\\users\\jmcoa\\anaconda3\\envs\\tf_env2\\lib\\site-packages (from matplotlib->object_detection) (23.0)\n",
      "Collecting contourpy>=1.0.1\n",
      "  Downloading contourpy-1.0.7-cp310-cp310-win_amd64.whl (162 kB)\n",
      "     ---------------------------------------- 0.0/163.0 kB ? eta -:--:--\n",
      "     ------------------------------------- 163.0/163.0 kB 10.2 MB/s eta 0:00:00\n",
      "Requirement already satisfied: python-dateutil>=2.7 in c:\\users\\jmcoa\\anaconda3\\envs\\tf_env2\\lib\\site-packages (from matplotlib->object_detection) (2.8.2)\n",
      "Requirement already satisfied: numpy>=1.20 in c:\\users\\jmcoa\\anaconda3\\envs\\tf_env2\\lib\\site-packages (from matplotlib->object_detection) (1.23.5)\n",
      "Collecting fonttools>=4.22.0\n",
      "  Using cached fonttools-4.39.2-py3-none-any.whl (1.0 MB)\n",
      "Collecting libclang>=13.0.0\n",
      "  Using cached libclang-15.0.6.1-py2.py3-none-win_amd64.whl (23.2 MB)\n",
      "Requirement already satisfied: flatbuffers>=2.0 in c:\\users\\jmcoa\\anaconda3\\envs\\tf_env2\\lib\\site-packages (from tensorflow->object_detection) (2.0)\n",
      "Collecting tensorflow-io-gcs-filesystem>=0.23.1\n",
      "  Downloading tensorflow_io_gcs_filesystem-0.31.0-cp310-cp310-win_amd64.whl (1.5 MB)\n",
      "     ---------------------------------------- 0.0/1.5 MB ? eta -:--:--\n",
      "     ------------------------------------ --- 1.4/1.5 MB 29.6 MB/s eta 0:00:01\n",
      "     ---------------------------------------- 1.5/1.5 MB 23.8 MB/s eta 0:00:00\n",
      "Requirement already satisfied: tensorflow-estimator<2.11,>=2.10.0 in c:\\users\\jmcoa\\anaconda3\\envs\\tf_env2\\lib\\site-packages (from tensorflow->object_detection) (2.10.0)\n",
      "Requirement already satisfied: grpcio<2.0,>=1.24.3 in c:\\users\\jmcoa\\anaconda3\\envs\\tf_env2\\lib\\site-packages (from tensorflow->object_detection) (1.42.0)\n",
      "Requirement already satisfied: opt-einsum>=2.3.2 in c:\\users\\jmcoa\\anaconda3\\envs\\tf_env2\\lib\\site-packages (from tensorflow->object_detection) (3.3.0)\n",
      "Requirement already satisfied: setuptools in c:\\users\\jmcoa\\anaconda3\\envs\\tf_env2\\lib\\site-packages (from tensorflow->object_detection) (65.6.3)\n",
      "Requirement already satisfied: astunparse>=1.6.0 in c:\\users\\jmcoa\\anaconda3\\envs\\tf_env2\\lib\\site-packages (from tensorflow->object_detection) (1.6.3)\n",
      "Requirement already satisfied: wrapt>=1.11.0 in c:\\users\\jmcoa\\anaconda3\\envs\\tf_env2\\lib\\site-packages (from tensorflow->object_detection) (1.14.1)\n",
      "Requirement already satisfied: h5py>=2.9.0 in c:\\users\\jmcoa\\anaconda3\\envs\\tf_env2\\lib\\site-packages (from tensorflow->object_detection) (3.7.0)\n",
      "Requirement already satisfied: tensorboard<2.11,>=2.10 in c:\\users\\jmcoa\\anaconda3\\envs\\tf_env2\\lib\\site-packages (from tensorflow->object_detection) (2.10.0)\n",
      "Requirement already satisfied: gast<=0.4.0,>=0.2.1 in c:\\users\\jmcoa\\anaconda3\\envs\\tf_env2\\lib\\site-packages (from tensorflow->object_detection) (0.4.0)\n",
      "Requirement already satisfied: termcolor>=1.1.0 in c:\\users\\jmcoa\\anaconda3\\envs\\tf_env2\\lib\\site-packages (from tensorflow->object_detection) (2.1.0)\n",
      "Requirement already satisfied: typing-extensions>=3.6.6 in c:\\users\\jmcoa\\anaconda3\\envs\\tf_env2\\lib\\site-packages (from tensorflow->object_detection) (4.4.0)\n",
      "Requirement already satisfied: absl-py>=1.0.0 in c:\\users\\jmcoa\\anaconda3\\envs\\tf_env2\\lib\\site-packages (from tensorflow->object_detection) (1.3.0)\n",
      "Requirement already satisfied: keras<2.11,>=2.10.0 in c:\\users\\jmcoa\\anaconda3\\envs\\tf_env2\\lib\\site-packages (from tensorflow->object_detection) (2.10.0)\n",
      "Collecting protobuf<3.20,>=3.9.2\n",
      "  Downloading protobuf-3.19.6-cp310-cp310-win_amd64.whl (895 kB)\n",
      "     ---------------------------------------- 0.0/895.7 kB ? eta -:--:--\n",
      "     ------------------------------------- 895.7/895.7 kB 28.6 MB/s eta 0:00:00\n",
      "Requirement already satisfied: google-pasta>=0.1.1 in c:\\users\\jmcoa\\anaconda3\\envs\\tf_env2\\lib\\site-packages (from tensorflow->object_detection) (0.2.0)\n",
      "Requirement already satisfied: six>=1.12.0 in c:\\users\\jmcoa\\anaconda3\\envs\\tf_env2\\lib\\site-packages (from tensorflow->object_detection) (1.16.0)\n",
      "Requirement already satisfied: keras-preprocessing>=1.1.1 in c:\\users\\jmcoa\\anaconda3\\envs\\tf_env2\\lib\\site-packages (from tensorflow->object_detection) (1.1.2)\n",
      "Requirement already satisfied: wheel<1.0,>=0.23.0 in c:\\users\\jmcoa\\anaconda3\\envs\\tf_env2\\lib\\site-packages (from astunparse>=1.6.0->tensorflow->object_detection) (0.38.4)\n",
      "Requirement already satisfied: tensorboard-data-server<0.7.0,>=0.6.0 in c:\\users\\jmcoa\\anaconda3\\envs\\tf_env2\\lib\\site-packages (from tensorboard<2.11,>=2.10->tensorflow->object_detection) (0.6.1)\n",
      "Requirement already satisfied: google-auth-oauthlib<0.5,>=0.4.1 in c:\\users\\jmcoa\\anaconda3\\envs\\tf_env2\\lib\\site-packages (from tensorboard<2.11,>=2.10->tensorflow->object_detection) (0.4.4)\n",
      "Requirement already satisfied: werkzeug>=1.0.1 in c:\\users\\jmcoa\\anaconda3\\envs\\tf_env2\\lib\\site-packages (from tensorboard<2.11,>=2.10->tensorflow->object_detection) (2.2.2)\n",
      "Requirement already satisfied: google-auth<3,>=1.6.3 in c:\\users\\jmcoa\\anaconda3\\envs\\tf_env2\\lib\\site-packages (from tensorboard<2.11,>=2.10->tensorflow->object_detection) (2.6.0)\n",
      "Requirement already satisfied: requests<3,>=2.21.0 in c:\\users\\jmcoa\\anaconda3\\envs\\tf_env2\\lib\\site-packages (from tensorboard<2.11,>=2.10->tensorflow->object_detection) (2.28.1)\n",
      "Requirement already satisfied: tensorboard-plugin-wit>=1.6.0 in c:\\users\\jmcoa\\anaconda3\\envs\\tf_env2\\lib\\site-packages (from tensorboard<2.11,>=2.10->tensorflow->object_detection) (1.8.1)\n",
      "Requirement already satisfied: markdown>=2.6.8 in c:\\users\\jmcoa\\anaconda3\\envs\\tf_env2\\lib\\site-packages (from tensorboard<2.11,>=2.10->tensorflow->object_detection) (3.4.1)\n",
      "Requirement already satisfied: debugpy>=1.0 in c:\\users\\jmcoa\\anaconda3\\envs\\tf_env2\\lib\\site-packages (from ipykernel->jupyter->object_detection) (1.5.1)\n",
      "Requirement already satisfied: psutil in c:\\users\\jmcoa\\anaconda3\\envs\\tf_env2\\lib\\site-packages (from ipykernel->jupyter->object_detection) (5.9.0)\n",
      "Requirement already satisfied: traitlets>=5.4.0 in c:\\users\\jmcoa\\anaconda3\\envs\\tf_env2\\lib\\site-packages (from ipykernel->jupyter->object_detection) (5.7.1)\n",
      "Requirement already satisfied: tornado>=6.1 in c:\\users\\jmcoa\\anaconda3\\envs\\tf_env2\\lib\\site-packages (from ipykernel->jupyter->object_detection) (6.2)\n",
      "Requirement already satisfied: matplotlib-inline>=0.1 in c:\\users\\jmcoa\\anaconda3\\envs\\tf_env2\\lib\\site-packages (from ipykernel->jupyter->object_detection) (0.1.6)\n",
      "Requirement already satisfied: jupyter-client>=6.1.12 in c:\\users\\jmcoa\\anaconda3\\envs\\tf_env2\\lib\\site-packages (from ipykernel->jupyter->object_detection) (7.4.9)\n",
      "Requirement already satisfied: comm>=0.1.1 in c:\\users\\jmcoa\\anaconda3\\envs\\tf_env2\\lib\\site-packages (from ipykernel->jupyter->object_detection) (0.1.2)\n",
      "Requirement already satisfied: nest-asyncio in c:\\users\\jmcoa\\anaconda3\\envs\\tf_env2\\lib\\site-packages (from ipykernel->jupyter->object_detection) (1.5.6)\n",
      "Requirement already satisfied: ipython>=7.23.1 in c:\\users\\jmcoa\\anaconda3\\envs\\tf_env2\\lib\\site-packages (from ipykernel->jupyter->object_detection) (8.10.0)\n",
      "Requirement already satisfied: pyzmq>=17 in c:\\users\\jmcoa\\anaconda3\\envs\\tf_env2\\lib\\site-packages (from ipykernel->jupyter->object_detection) (23.2.0)\n",
      "Requirement already satisfied: ipython-genutils~=0.2.0 in c:\\users\\jmcoa\\anaconda3\\envs\\tf_env2\\lib\\site-packages (from ipywidgets->jupyter->object_detection) (0.2.0)\n",
      "Requirement already satisfied: nbformat>=4.2.0 in c:\\users\\jmcoa\\anaconda3\\envs\\tf_env2\\lib\\site-packages (from ipywidgets->jupyter->object_detection) (5.7.0)\n",
      "Requirement already satisfied: widgetsnbextension~=3.5.0 in c:\\users\\jmcoa\\anaconda3\\envs\\tf_env2\\lib\\site-packages (from ipywidgets->jupyter->object_detection) (3.5.2)\n",
      "Requirement already satisfied: jupyterlab-widgets>=1.0.0 in c:\\users\\jmcoa\\anaconda3\\envs\\tf_env2\\lib\\site-packages (from ipywidgets->jupyter->object_detection) (3.0.5)\n",
      "Requirement already satisfied: jupyter-core!=5.0.*,>=4.12 in c:\\users\\jmcoa\\anaconda3\\envs\\tf_env2\\lib\\site-packages (from jupyter-console->jupyter->object_detection) (5.2.0)\n",
      "Requirement already satisfied: pygments in c:\\users\\jmcoa\\anaconda3\\envs\\tf_env2\\lib\\site-packages (from jupyter-console->jupyter->object_detection) (2.11.2)\n",
      "Requirement already satisfied: prompt-toolkit>=3.0.30 in c:\\users\\jmcoa\\anaconda3\\envs\\tf_env2\\lib\\site-packages (from jupyter-console->jupyter->object_detection) (3.0.36)\n",
      "Requirement already satisfied: nbclient>=0.5.0 in c:\\users\\jmcoa\\anaconda3\\envs\\tf_env2\\lib\\site-packages (from nbconvert->jupyter->object_detection) (0.5.13)\n",
      "Requirement already satisfied: beautifulsoup4 in c:\\users\\jmcoa\\anaconda3\\envs\\tf_env2\\lib\\site-packages (from nbconvert->jupyter->object_detection) (4.11.1)\n",
      "Requirement already satisfied: entrypoints>=0.2.2 in c:\\users\\jmcoa\\anaconda3\\envs\\tf_env2\\lib\\site-packages (from nbconvert->jupyter->object_detection) (0.4)\n",
      "Requirement already satisfied: jinja2>=3.0 in c:\\users\\jmcoa\\anaconda3\\envs\\tf_env2\\lib\\site-packages (from nbconvert->jupyter->object_detection) (3.1.2)\n",
      "Requirement already satisfied: pandocfilters>=1.4.1 in c:\\users\\jmcoa\\anaconda3\\envs\\tf_env2\\lib\\site-packages (from nbconvert->jupyter->object_detection) (1.5.0)\n",
      "Requirement already satisfied: defusedxml in c:\\users\\jmcoa\\anaconda3\\envs\\tf_env2\\lib\\site-packages (from nbconvert->jupyter->object_detection) (0.7.1)\n",
      "Requirement already satisfied: tinycss2 in c:\\users\\jmcoa\\anaconda3\\envs\\tf_env2\\lib\\site-packages (from nbconvert->jupyter->object_detection) (1.2.1)\n",
      "Requirement already satisfied: MarkupSafe>=2.0 in c:\\users\\jmcoa\\anaconda3\\envs\\tf_env2\\lib\\site-packages (from nbconvert->jupyter->object_detection) (2.1.1)\n",
      "Requirement already satisfied: jupyterlab-pygments in c:\\users\\jmcoa\\anaconda3\\envs\\tf_env2\\lib\\site-packages (from nbconvert->jupyter->object_detection) (0.1.2)\n",
      "Requirement already satisfied: mistune<2,>=0.8.1 in c:\\users\\jmcoa\\anaconda3\\envs\\tf_env2\\lib\\site-packages (from nbconvert->jupyter->object_detection) (0.8.4)\n",
      "Requirement already satisfied: bleach in c:\\users\\jmcoa\\anaconda3\\envs\\tf_env2\\lib\\site-packages (from nbconvert->jupyter->object_detection) (4.1.0)\n",
      "Requirement already satisfied: terminado>=0.8.3 in c:\\users\\jmcoa\\anaconda3\\envs\\tf_env2\\lib\\site-packages (from notebook->jupyter->object_detection) (0.17.1)\n",
      "Requirement already satisfied: Send2Trash>=1.8.0 in c:\\users\\jmcoa\\anaconda3\\envs\\tf_env2\\lib\\site-packages (from notebook->jupyter->object_detection) (1.8.0)\n",
      "Requirement already satisfied: prometheus-client in c:\\users\\jmcoa\\anaconda3\\envs\\tf_env2\\lib\\site-packages (from notebook->jupyter->object_detection) (0.14.1)\n",
      "Requirement already satisfied: nbclassic>=0.4.7 in c:\\users\\jmcoa\\anaconda3\\envs\\tf_env2\\lib\\site-packages (from notebook->jupyter->object_detection) (0.5.2)\n",
      "Requirement already satisfied: argon2-cffi in c:\\users\\jmcoa\\anaconda3\\envs\\tf_env2\\lib\\site-packages (from notebook->jupyter->object_detection) (21.3.0)\n",
      "Requirement already satisfied: qtpy>=2.0.1 in c:\\users\\jmcoa\\anaconda3\\envs\\tf_env2\\lib\\site-packages (from qtconsole->jupyter->object_detection) (2.2.0)\n",
      "Requirement already satisfied: cachetools<6.0,>=2.0.0 in c:\\users\\jmcoa\\anaconda3\\envs\\tf_env2\\lib\\site-packages (from google-auth<3,>=1.6.3->tensorboard<2.11,>=2.10->tensorflow->object_detection) (4.2.2)\n",
      "Requirement already satisfied: pyasn1-modules>=0.2.1 in c:\\users\\jmcoa\\anaconda3\\envs\\tf_env2\\lib\\site-packages (from google-auth<3,>=1.6.3->tensorboard<2.11,>=2.10->tensorflow->object_detection) (0.2.8)\n",
      "Requirement already satisfied: rsa<5,>=3.1.4 in c:\\users\\jmcoa\\anaconda3\\envs\\tf_env2\\lib\\site-packages (from google-auth<3,>=1.6.3->tensorboard<2.11,>=2.10->tensorflow->object_detection) (4.7.2)\n",
      "Requirement already satisfied: requests-oauthlib>=0.7.0 in c:\\users\\jmcoa\\anaconda3\\envs\\tf_env2\\lib\\site-packages (from google-auth-oauthlib<0.5,>=0.4.1->tensorboard<2.11,>=2.10->tensorflow->object_detection) (1.3.0)\n",
      "Requirement already satisfied: jedi>=0.16 in c:\\users\\jmcoa\\anaconda3\\envs\\tf_env2\\lib\\site-packages (from ipython>=7.23.1->ipykernel->jupyter->object_detection) (0.18.1)\n",
      "Requirement already satisfied: stack-data in c:\\users\\jmcoa\\anaconda3\\envs\\tf_env2\\lib\\site-packages (from ipython>=7.23.1->ipykernel->jupyter->object_detection) (0.2.0)\n",
      "Requirement already satisfied: pickleshare in c:\\users\\jmcoa\\anaconda3\\envs\\tf_env2\\lib\\site-packages (from ipython>=7.23.1->ipykernel->jupyter->object_detection) (0.7.5)\n",
      "Requirement already satisfied: colorama in c:\\users\\jmcoa\\anaconda3\\envs\\tf_env2\\lib\\site-packages (from ipython>=7.23.1->ipykernel->jupyter->object_detection) (0.4.6)\n",
      "Requirement already satisfied: backcall in c:\\users\\jmcoa\\anaconda3\\envs\\tf_env2\\lib\\site-packages (from ipython>=7.23.1->ipykernel->jupyter->object_detection) (0.2.0)\n",
      "Requirement already satisfied: decorator in c:\\users\\jmcoa\\anaconda3\\envs\\tf_env2\\lib\\site-packages (from ipython>=7.23.1->ipykernel->jupyter->object_detection) (5.1.1)\n",
      "Requirement already satisfied: platformdirs>=2.5 in c:\\users\\jmcoa\\anaconda3\\envs\\tf_env2\\lib\\site-packages (from jupyter-core!=5.0.*,>=4.12->jupyter-console->jupyter->object_detection) (2.5.2)\n",
      "Requirement already satisfied: pywin32>=1.0 in c:\\users\\jmcoa\\anaconda3\\envs\\tf_env2\\lib\\site-packages (from jupyter-core!=5.0.*,>=4.12->jupyter-console->jupyter->object_detection) (305.1)\n",
      "Requirement already satisfied: notebook-shim>=0.1.0 in c:\\users\\jmcoa\\anaconda3\\envs\\tf_env2\\lib\\site-packages (from nbclassic>=0.4.7->notebook->jupyter->object_detection) (0.2.2)\n",
      "Requirement already satisfied: jupyter-server>=1.8 in c:\\users\\jmcoa\\anaconda3\\envs\\tf_env2\\lib\\site-packages (from nbclassic>=0.4.7->notebook->jupyter->object_detection) (1.23.4)\n",
      "Requirement already satisfied: fastjsonschema in c:\\users\\jmcoa\\anaconda3\\envs\\tf_env2\\lib\\site-packages (from nbformat>=4.2.0->ipywidgets->jupyter->object_detection) (2.16.2)\n",
      "Requirement already satisfied: jsonschema>=2.6 in c:\\users\\jmcoa\\anaconda3\\envs\\tf_env2\\lib\\site-packages (from nbformat>=4.2.0->ipywidgets->jupyter->object_detection) (4.17.3)\n",
      "Requirement already satisfied: wcwidth in c:\\users\\jmcoa\\anaconda3\\envs\\tf_env2\\lib\\site-packages (from prompt-toolkit>=3.0.30->jupyter-console->jupyter->object_detection) (0.2.5)\n",
      "Requirement already satisfied: urllib3<1.27,>=1.21.1 in c:\\users\\jmcoa\\anaconda3\\envs\\tf_env2\\lib\\site-packages (from requests<3,>=2.21.0->tensorboard<2.11,>=2.10->tensorflow->object_detection) (1.26.14)\n",
      "Requirement already satisfied: charset-normalizer<3,>=2 in c:\\users\\jmcoa\\anaconda3\\envs\\tf_env2\\lib\\site-packages (from requests<3,>=2.21.0->tensorboard<2.11,>=2.10->tensorflow->object_detection) (2.0.4)\n",
      "Requirement already satisfied: idna<4,>=2.5 in c:\\users\\jmcoa\\anaconda3\\envs\\tf_env2\\lib\\site-packages (from requests<3,>=2.21.0->tensorboard<2.11,>=2.10->tensorflow->object_detection) (3.4)\n",
      "Requirement already satisfied: certifi>=2017.4.17 in c:\\users\\jmcoa\\anaconda3\\envs\\tf_env2\\lib\\site-packages (from requests<3,>=2.21.0->tensorboard<2.11,>=2.10->tensorflow->object_detection) (2022.12.7)\n",
      "Requirement already satisfied: pywinpty>=1.1.0 in c:\\users\\jmcoa\\anaconda3\\envs\\tf_env2\\lib\\site-packages (from terminado>=0.8.3->notebook->jupyter->object_detection) (2.0.10)\n",
      "Requirement already satisfied: argon2-cffi-bindings in c:\\users\\jmcoa\\anaconda3\\envs\\tf_env2\\lib\\site-packages (from argon2-cffi->notebook->jupyter->object_detection) (21.2.0)\n",
      "Requirement already satisfied: soupsieve>1.2 in c:\\users\\jmcoa\\anaconda3\\envs\\tf_env2\\lib\\site-packages (from beautifulsoup4->nbconvert->jupyter->object_detection) (2.3.2.post1)\n",
      "Requirement already satisfied: webencodings in c:\\users\\jmcoa\\anaconda3\\envs\\tf_env2\\lib\\site-packages (from bleach->nbconvert->jupyter->object_detection) (0.5.1)\n",
      "Requirement already satisfied: parso<0.9.0,>=0.8.0 in c:\\users\\jmcoa\\anaconda3\\envs\\tf_env2\\lib\\site-packages (from jedi>=0.16->ipython>=7.23.1->ipykernel->jupyter->object_detection) (0.8.3)\n",
      "Requirement already satisfied: pyrsistent!=0.17.0,!=0.17.1,!=0.17.2,>=0.14.0 in c:\\users\\jmcoa\\anaconda3\\envs\\tf_env2\\lib\\site-packages (from jsonschema>=2.6->nbformat>=4.2.0->ipywidgets->jupyter->object_detection) (0.18.0)\n",
      "Requirement already satisfied: attrs>=17.4.0 in c:\\users\\jmcoa\\anaconda3\\envs\\tf_env2\\lib\\site-packages (from jsonschema>=2.6->nbformat>=4.2.0->ipywidgets->jupyter->object_detection) (22.1.0)\n",
      "Requirement already satisfied: websocket-client in c:\\users\\jmcoa\\anaconda3\\envs\\tf_env2\\lib\\site-packages (from jupyter-server>=1.8->nbclassic>=0.4.7->notebook->jupyter->object_detection) (0.58.0)\n",
      "Requirement already satisfied: anyio<4,>=3.1.0 in c:\\users\\jmcoa\\anaconda3\\envs\\tf_env2\\lib\\site-packages (from jupyter-server>=1.8->nbclassic>=0.4.7->notebook->jupyter->object_detection) (3.5.0)\n",
      "Requirement already satisfied: pyasn1<0.5.0,>=0.4.6 in c:\\users\\jmcoa\\anaconda3\\envs\\tf_env2\\lib\\site-packages (from pyasn1-modules>=0.2.1->google-auth<3,>=1.6.3->tensorboard<2.11,>=2.10->tensorflow->object_detection) (0.4.8)\n",
      "Requirement already satisfied: oauthlib>=3.0.0 in c:\\users\\jmcoa\\anaconda3\\envs\\tf_env2\\lib\\site-packages (from requests-oauthlib>=0.7.0->google-auth-oauthlib<0.5,>=0.4.1->tensorboard<2.11,>=2.10->tensorflow->object_detection) (3.2.1)\n",
      "Requirement already satisfied: cffi>=1.0.1 in c:\\users\\jmcoa\\anaconda3\\envs\\tf_env2\\lib\\site-packages (from argon2-cffi-bindings->argon2-cffi->notebook->jupyter->object_detection) (1.15.1)\n",
      "Requirement already satisfied: executing in c:\\users\\jmcoa\\anaconda3\\envs\\tf_env2\\lib\\site-packages (from stack-data->ipython>=7.23.1->ipykernel->jupyter->object_detection) (0.8.3)\n",
      "Requirement already satisfied: pure-eval in c:\\users\\jmcoa\\anaconda3\\envs\\tf_env2\\lib\\site-packages (from stack-data->ipython>=7.23.1->ipykernel->jupyter->object_detection) (0.2.2)\n",
      "Requirement already satisfied: asttokens in c:\\users\\jmcoa\\anaconda3\\envs\\tf_env2\\lib\\site-packages (from stack-data->ipython>=7.23.1->ipykernel->jupyter->object_detection) (2.0.5)\n",
      "Requirement already satisfied: sniffio>=1.1 in c:\\users\\jmcoa\\anaconda3\\envs\\tf_env2\\lib\\site-packages (from anyio<4,>=3.1.0->jupyter-server>=1.8->nbclassic>=0.4.7->notebook->jupyter->object_detection) (1.2.0)\n",
      "Requirement already satisfied: pycparser in c:\\users\\jmcoa\\anaconda3\\envs\\tf_env2\\lib\\site-packages (from cffi>=1.0.1->argon2-cffi-bindings->argon2-cffi->notebook->jupyter->object_detection) (2.21)\n",
      "Installing collected packages: libclang, tensorflow-io-gcs-filesystem, pyparsing, protobuf, kiwisolver, fonttools, Cython, cycler, contourpy, contextlib2, matplotlib, object_detection\n",
      "  Attempting uninstall: protobuf\n",
      "    Found existing installation: protobuf 3.20.3\n",
      "    Uninstalling protobuf-3.20.3:\n",
      "      Successfully uninstalled protobuf-3.20.3\n",
      "Successfully installed Cython-0.29.33 contextlib2-21.6.0 contourpy-1.0.7 cycler-0.11.0 fonttools-4.39.2 kiwisolver-1.4.4 libclang-15.0.6.1 matplotlib-3.7.1 object_detection-0.0.3 protobuf-3.19.6 pyparsing-3.0.9 tensorflow-io-gcs-filesystem-0.31.0\n"
     ]
    }
   ],
   "source": [
    "#!pip install pillow\n",
    "#import tensorflow as tf\n",
    "#!pip install --upgrade pyqt5\n",
    "#!pip install tensorflow-object-detection-api\n",
    "#import object_detection\n",
    "# import tensorflow as tf\n",
    "# print(tf.__version__)\n",
    "# import object_detection\n",
    "# print(object_detection.__file__)\n",
    "#!pip install --upgrade tensorflow\n",
    "#!pip install google-auth-httplib2\n",
    "#import protobuf\n",
    "#!pip install protobuf\n",
    "#!pip install --upgrade protobuf protobuf-compiler\n",
    "import sys\n",
    "# !pip install tensorflow\n",
    "# !sys.path.append('C:\\AdditionalPackages\\Tensorflow')\n",
    "\n",
    "# import tensorflow as tf\n",
    "#!pip install pillow\n",
    "!pip install object_detection"
   ]
  },
  {
   "cell_type": "code",
   "execution_count": 2,
   "metadata": {},
   "outputs": [
    {
     "name": "stdout",
     "output_type": "stream",
     "text": [
      "C:\\Users\\jmcoa\\Documents\\UNG Spring 2023\\Senior Project\\RealTimeObjectDetection\n"
     ]
    }
   ],
   "source": [
    "%cd \"C:\\Users\\jmcoa\\Documents\\UNG Spring 2023\\Senior Project\\RealTimeObjectDetection\""
   ]
  },
  {
   "cell_type": "code",
   "execution_count": 3,
   "metadata": {},
   "outputs": [],
   "source": [
    "#!jupyter notebook label_map_util.py\n"
   ]
  },
  {
   "cell_type": "code",
   "execution_count": 1,
   "metadata": {},
   "outputs": [],
   "source": [
    "WORKSPACE_PATH = 'Tensorflow/workspace'\n",
    "SCRIPTS_PATH = 'Tensorflow/scripts'\n",
    "APIMODEL_PATH = 'Tensorflow/models'\n",
    "ANNOTATION_PATH = WORKSPACE_PATH+'/annotations'\n",
    "IMAGE_PATH = WORKSPACE_PATH+'/images'\n",
    "MODEL_PATH = WORKSPACE_PATH+'/models'\n",
    "PRETRAINED_MODEL_PATH = WORKSPACE_PATH+'/pre-trained-models'\n",
    "CONFIG_PATH = MODEL_PATH+'/my_ssd_mobnet/pipeline.config'\n",
    "CHECKPOINT_PATH = MODEL_PATH+'/my_ssd_mobnet/'"
   ]
  },
  {
   "cell_type": "markdown",
   "metadata": {},
   "source": [
    "# 1. Create Label Map"
   ]
  },
  {
   "cell_type": "code",
   "execution_count": 2,
   "metadata": {},
   "outputs": [],
   "source": [
    "labels = [{'name':'a', 'id':1}, \n",
    "          {'name':'b', 'id':2},{'name':'c', 'id':3},{'name':'d', 'id':4},{'name':'e', 'id':5},\n",
    "          {'name':'f', 'id':6},{'name':'g', 'id':7},{'name':'h', 'id':8},{'name':'i', 'id':9},\n",
    "          {'name':'k', 'id':10},{'name':'l', 'id':11},{'name':'m', 'id':12},{'name':'n', 'id':13},\n",
    "          {'name':'o', 'id':14},{'name':'p', 'id':15},{'name':'q', 'id':16},{'name':'r', 'id':17},\n",
    "          {'name':'s', 'id':18},{'name':'t', 'id':19},{'name':'u', 'id':20},{'name':\"v\", 'id':21},\n",
    "          {'name':'w', 'id':22},{'name':'x', 'id':23},{'name':'y', 'id':24}\n",
    "         ]\n",
    "\n",
    "with open(ANNOTATION_PATH + '\\label_map.pbtxt', 'w') as f:\n",
    "    for label in labels:\n",
    "        f.write('item { \\n')\n",
    "        f.write('\\tname:\\'{}\\'\\n'.format(label['name']))\n",
    "        f.write('\\tid:{}\\n'.format(label['id']))\n",
    "        f.write('}\\n')"
   ]
  },
  {
   "cell_type": "code",
   "execution_count": 26,
   "metadata": {},
   "outputs": [
    {
     "ename": "NameError",
     "evalue": "name 'args' is not defined",
     "output_type": "error",
     "traceback": [
      "\u001b[1;31m---------------------------------------------------------------------------\u001b[0m",
      "\u001b[1;31mNameError\u001b[0m                                 Traceback (most recent call last)",
      "\u001b[1;32m~\\AppData\\Local\\Temp\\ipykernel_38572\\3361713379.py\u001b[0m in \u001b[0;36m<module>\u001b[1;34m\u001b[0m\n\u001b[1;32m----> 1\u001b[1;33m \u001b[0mprint\u001b[0m\u001b[1;33m(\u001b[0m\u001b[0margs\u001b[0m\u001b[1;33m.\u001b[0m\u001b[0mlabels_path\u001b[0m\u001b[1;33m)\u001b[0m\u001b[1;33m\u001b[0m\u001b[1;33m\u001b[0m\u001b[0m\n\u001b[0m",
      "\u001b[1;31mNameError\u001b[0m: name 'args' is not defined"
     ]
    }
   ],
   "source": []
  },
  {
   "cell_type": "code",
   "execution_count": 3,
   "metadata": {},
   "outputs": [
    {
     "name": "stdout",
     "output_type": "stream",
     "text": [
      ".\\Tensorflow\\workspace\\annotations\\label_map.pbtxt\n"
     ]
    }
   ],
   "source": [
    "import os\n",
    "\n",
    "label_map_file = 'label_map.pbtxt'\n",
    "for root, dirs, files in os.walk('.'):\n",
    "    if label_map_file in files:\n",
    "        labelmap_path = (os.path.join(root, label_map_file))\n",
    "        print(labelmap_path)"
   ]
  },
  {
   "cell_type": "code",
   "execution_count": 4,
   "metadata": {},
   "outputs": [
    {
     "name": "stdout",
     "output_type": "stream",
     "text": [
      "Label map file exists in the specified path.\n"
     ]
    }
   ],
   "source": [
    "#import os\n",
    "\n",
    "#path_to_label_map = labelmap_path\n",
    "if os.path.exists(labelmap_path):\n",
    "    print(\"Label map file exists in the specified path.\")\n",
    "else:\n",
    "    print(\"Label map file does not exist in the specified path.\")"
   ]
  },
  {
   "cell_type": "code",
   "execution_count": 4,
   "metadata": {},
   "outputs": [
    {
     "name": "stdout",
     "output_type": "stream",
     "text": [
      "C:\\Users\\jmcoa\\Documents\\UNG Spring 2023\\Senior Project\\RealTimeObjectDetection\n",
      "True\n"
     ]
    }
   ],
   "source": [
    "# Get the current working directory\n",
    "print(os.getcwd())\n",
    "\n",
    "# Check if the label_map.pbtxt file exists in the current working directory\n",
    "print(os.path.exists(labelmap_path))"
   ]
  },
  {
   "cell_type": "markdown",
   "metadata": {},
   "source": [
    "# 2. Create TF records"
   ]
  },
  {
   "cell_type": "code",
   "execution_count": 7,
   "metadata": {},
   "outputs": [
    {
     "name": "stdout",
     "output_type": "stream",
     "text": [
      "True\n"
     ]
    }
   ],
   "source": [
    "import os \n",
    "path_to_label_map = 'Tensorflow/workspace/annotations/label_map.pbtxt'\n",
    "print(os.path.exists(path_to_label_map))"
   ]
  },
  {
   "cell_type": "code",
   "execution_count": 13,
   "metadata": {},
   "outputs": [
    {
     "name": "stderr",
     "output_type": "stream",
     "text": [
      "'ls' is not recognized as an internal or external command,\n",
      "operable program or batch file.\n"
     ]
    }
   ],
   "source": []
  },
  {
   "cell_type": "code",
   "execution_count": 3,
   "metadata": {
    "scrolled": true
   },
   "outputs": [
    {
     "name": "stdout",
     "output_type": "stream",
     "text": [
      "Successfully created the TFRecord file: Tensorflow/workspace/annotations/train.record\n",
      "Successfully created the TFRecord file: Tensorflow/workspace/annotations/test.record\n"
     ]
    }
   ],
   "source": [
    "!python {SCRIPTS_PATH + '/generate_tfrecord.py'} -x{IMAGE_PATH + '/train'} -l {ANNOTATION_PATH + '/label_map.pbtxt'} -o {ANNOTATION_PATH + '/train.record'}\n",
    "!python {SCRIPTS_PATH + '/generate_tfrecord.py'} -x{IMAGE_PATH + '/test'} -l {ANNOTATION_PATH + '/label_map.pbtxt'} -o {ANNOTATION_PATH + '/test.record'}"
   ]
  },
  {
   "cell_type": "markdown",
   "metadata": {},
   "source": [
    "# 3. Download TF Models Pretrained Models from Tensorflow Model Zoo"
   ]
  },
  {
   "cell_type": "code",
   "execution_count": 4,
   "metadata": {},
   "outputs": [
    {
     "name": "stderr",
     "output_type": "stream",
     "text": [
      "fatal: destination path 'models' already exists and is not an empty directory.\n"
     ]
    }
   ],
   "source": [
    "!cd Tensorflow && git clone https://github.com/tensorflow/models"
   ]
  },
  {
   "cell_type": "code",
   "execution_count": 6,
   "metadata": {},
   "outputs": [],
   "source": [
    "#wget.download('http://download.tensorflow.org/models/object_detection/tf2/20200711/ssd_mobilenet_v2_fpnlite_320x320_coco17_tpu-8.tar.gz')\n",
    "#!mv ssd_mobilenet_v2_fpnlite_320x320_coco17_tpu-8.tar.gz {PRETRAINED_MODEL_PATH}\n",
    "#!cd {PRETRAINED_MODEL_PATH} && tar -zxvf ssd_mobilenet_v2_fpnlite_320x320_coco17_tpu-8.tar.gz"
   ]
  },
  {
   "cell_type": "markdown",
   "metadata": {},
   "source": [
    "# 4. Copy Model Config to Training Folder"
   ]
  },
  {
   "cell_type": "code",
   "execution_count": 5,
   "metadata": {},
   "outputs": [],
   "source": [
    "CUSTOM_MODEL_NAME = 'my_ssd_mobnet' "
   ]
  },
  {
   "cell_type": "code",
   "execution_count": 6,
   "metadata": {},
   "outputs": [
    {
     "name": "stderr",
     "output_type": "stream",
     "text": [
      "A subdirectory or file Tensorflow\\workspace\\models\\my_ssd_mobnet already exists.\n"
     ]
    },
    {
     "name": "stdout",
     "output_type": "stream",
     "text": [
      "The syntax of the command is incorrect.\n"
     ]
    }
   ],
   "source": [
    "!mkdir {'Tensorflow\\workspace\\models\\\\'+CUSTOM_MODEL_NAME}\n",
    "!copy {PRETRAINED_MODEL_PATH+'/ssd_mobilenet_v2_fpnlite_320x320_coco17_tpu-8/pipeline.config'} {MODEL_PATH+'/'+CUSTOM_MODEL_NAME}"
   ]
  },
  {
   "cell_type": "markdown",
   "metadata": {},
   "source": [
    "# 5. Update Config For Transfer Learning"
   ]
  },
  {
   "cell_type": "code",
   "execution_count": 10,
   "metadata": {},
   "outputs": [
    {
     "data": {
      "text/plain": [
       "{'ALLUSERSPROFILE': 'C:\\\\ProgramData',\n",
       " 'APPDATA': 'C:\\\\Users\\\\jmcoa\\\\AppData\\\\Roaming',\n",
       " 'CLASSPATH': '.;C:\\\\Users\\\\jmcoa\\\\Documents\\\\NetBeansProjects\\\\LibraryManagementSystem\\\\mysql-connector-j-8.0.31.jar;C:\\\\mysql_connector_j\\\\mysql-connector-j-8.0.31\\\\mysql-connector-j-8.0.31.jar;C:\\\\Users\\\\jmcoa\\\\.m2\\\\repository\\\\com\\\\mysql\\\\mysql-connector-j\\\\8.0.31\\\\mysql-connector-j-8.0.31.jar;',\n",
       " 'COMMONPROGRAMFILES': 'C:\\\\Program Files\\\\Common Files',\n",
       " 'COMMONPROGRAMFILES(X86)': 'C:\\\\Program Files (x86)\\\\Common Files',\n",
       " 'COMMONPROGRAMW6432': 'C:\\\\Program Files\\\\Common Files',\n",
       " 'COMPUTERNAME': 'DESKTOP-6HUA4RD',\n",
       " 'COMSPEC': 'C:\\\\WINDOWS\\\\system32\\\\cmd.exe',\n",
       " 'CONDA_DEFAULT_ENV': 'tf_env2',\n",
       " 'CONDA_EXE': 'C:\\\\Users\\\\jmcoa\\\\anaconda3\\\\Scripts\\\\conda.exe',\n",
       " 'CONDA_PREFIX': 'C:\\\\Users\\\\jmcoa\\\\anaconda3\\\\envs\\\\tf_env2',\n",
       " 'CONDA_PREFIX_1': 'C:\\\\Users\\\\jmcoa\\\\anaconda3',\n",
       " 'CONDA_PROMPT_MODIFIER': '(tf_env2) ',\n",
       " 'CONDA_PYTHON_EXE': 'C:\\\\Users\\\\jmcoa\\\\anaconda3\\\\python.exe',\n",
       " 'CONDA_SHLVL': '2',\n",
       " 'DRIVERDATA': 'C:\\\\Windows\\\\System32\\\\Drivers\\\\DriverData',\n",
       " 'HOMEDRIVE': 'C:',\n",
       " 'HOMEPATH': '\\\\Users\\\\jmcoa',\n",
       " 'INTELLIJ IDEA': 'C:\\\\Program Files\\\\JetBrains\\\\IntelliJ IDEA 2020.3\\\\bin;',\n",
       " 'JAVA_HOME': 'C:\\\\Program Files\\\\Java\\\\jdk-14.0.1',\n",
       " 'LOCALAPPDATA': 'C:\\\\Users\\\\jmcoa\\\\AppData\\\\Local',\n",
       " 'LOGONSERVER': '\\\\\\\\DESKTOP-6HUA4RD',\n",
       " 'NUMBER_OF_PROCESSORS': '8',\n",
       " 'ONEDRIVE': 'C:\\\\Users\\\\jmcoa\\\\OneDrive',\n",
       " 'ONEDRIVECONSUMER': 'C:\\\\Users\\\\jmcoa\\\\OneDrive',\n",
       " 'OS': 'Windows_NT',\n",
       " 'PATH': 'C:\\\\Users\\\\jmcoa\\\\anaconda3\\\\envs\\\\tf_env2;C:\\\\Users\\\\jmcoa\\\\anaconda3\\\\envs\\\\tf_env2\\\\Library\\\\mingw-w64\\\\bin;C:\\\\Users\\\\jmcoa\\\\anaconda3\\\\envs\\\\tf_env2\\\\Library\\\\usr\\\\bin;C:\\\\Users\\\\jmcoa\\\\anaconda3\\\\envs\\\\tf_env2\\\\Library\\\\bin;C:\\\\Users\\\\jmcoa\\\\anaconda3\\\\envs\\\\tf_env2\\\\Scripts;C:\\\\Users\\\\jmcoa\\\\anaconda3\\\\envs\\\\tf_env2\\\\bin;C:\\\\Users\\\\jmcoa\\\\anaconda3\\\\condabin;C:\\\\WINDOWS\\\\system32;C:\\\\WINDOWS;C:\\\\WINDOWS\\\\System32\\\\Wbem;C:\\\\WINDOWS\\\\System32\\\\WindowsPowerShell\\\\v1.0;C:\\\\WINDOWS\\\\System32\\\\OpenSSH;C:\\\\Program Files\\\\Java\\\\jdk-14.0.1\\\\bin;C:\\\\Program Files\\\\TortoiseGit\\\\bin;C:\\\\Program Files\\\\Git\\\\cmd;C:\\\\Program Files\\\\PuTTY;C:\\\\Program Files\\\\MySQL\\\\MySQL Shell 8.0\\\\bin;C:\\\\Python39\\\\Scripts;C:\\\\Python39;C:\\\\Users\\\\jmcoa\\\\AppData\\\\Local\\\\Microsoft\\\\WindowsApps;C:\\\\Program Files\\\\JetBrains\\\\IntelliJ IDEA 2020.3\\\\bin;.;C:\\\\Users\\\\jmcoa\\\\AppData\\\\Local\\\\GitHubDesktop\\\\bin;C:\\\\AdditionalPackages\\\\protoc\\\\bin;.',\n",
       " 'PATHEXT': '.COM;.EXE;.BAT;.CMD;.VBS;.VBE;.JS;.JSE;.WSF;.WSH;.MSC',\n",
       " 'PROCESSOR_ARCHITECTURE': 'AMD64',\n",
       " 'PROCESSOR_IDENTIFIER': 'Intel64 Family 6 Model 142 Stepping 12, GenuineIntel',\n",
       " 'PROCESSOR_LEVEL': '6',\n",
       " 'PROCESSOR_REVISION': '8e0c',\n",
       " 'PROGRAMDATA': 'C:\\\\ProgramData',\n",
       " 'PROGRAMFILES': 'C:\\\\Program Files',\n",
       " 'PROGRAMFILES(X86)': 'C:\\\\Program Files (x86)',\n",
       " 'PROGRAMW6432': 'C:\\\\Program Files',\n",
       " 'PROMPT': '(tf_env2) $P$G',\n",
       " 'PSMODULEPATH': 'C:\\\\Program Files\\\\WindowsPowerShell\\\\Modules;C:\\\\WINDOWS\\\\system32\\\\WindowsPowerShell\\\\v1.0\\\\Modules',\n",
       " 'PT8HOME': 'C:\\\\Program Files\\\\Cisco Packet Tracer 8.0',\n",
       " 'PUBLIC': 'C:\\\\Users\\\\Public',\n",
       " 'QT_DEVICE_PIXEL_RATIO': 'auto',\n",
       " 'SESSIONNAME': 'Console',\n",
       " 'SYSTEMDRIVE': 'C:',\n",
       " 'SYSTEMROOT': 'C:\\\\WINDOWS',\n",
       " 'TEMP': 'C:\\\\Users\\\\jmcoa\\\\AppData\\\\Local\\\\Temp',\n",
       " 'TMP': 'C:\\\\Users\\\\jmcoa\\\\AppData\\\\Local\\\\Temp',\n",
       " 'USERDOMAIN': 'DESKTOP-6HUA4RD',\n",
       " 'USERDOMAIN_ROAMINGPROFILE': 'DESKTOP-6HUA4RD',\n",
       " 'USERNAME': 'jmcoa',\n",
       " 'USERPROFILE': 'C:\\\\Users\\\\jmcoa',\n",
       " 'WINDIR': 'C:\\\\WINDOWS',\n",
       " 'PYDEVD_USE_FRAME_EVAL': 'NO',\n",
       " 'JPY_INTERRUPT_EVENT': '2564',\n",
       " 'IPY_INTERRUPT_EVENT': '2564',\n",
       " 'JPY_PARENT_PID': '2336',\n",
       " 'TERM': 'xterm-color',\n",
       " 'CLICOLOR': '1',\n",
       " 'FORCE_COLOR': '1',\n",
       " 'CLICOLOR_FORCE': '1',\n",
       " 'PAGER': 'cat',\n",
       " 'GIT_PAGER': 'cat',\n",
       " 'MPLBACKEND': 'module://matplotlib_inline.backend_inline',\n",
       " 'TF2_BEHAVIOR': '1'}"
      ]
     },
     "execution_count": 10,
     "metadata": {},
     "output_type": "execute_result"
    }
   ],
   "source": [
    "%env"
   ]
  },
  {
   "cell_type": "code",
   "execution_count": 7,
   "metadata": {},
   "outputs": [],
   "source": [
    "import tensorflow as tf\n",
    "from object_detection.utils import config_util\n",
    "from object_detection.protos import pipeline_pb2\n",
    "from google.protobuf import text_format"
   ]
  },
  {
   "cell_type": "code",
   "execution_count": 8,
   "metadata": {},
   "outputs": [],
   "source": [
    "CONFIG_PATH = MODEL_PATH+'/'+CUSTOM_MODEL_NAME+'/pipeline.config'"
   ]
  },
  {
   "cell_type": "code",
   "execution_count": 9,
   "metadata": {},
   "outputs": [],
   "source": [
    "config = config_util.get_configs_from_pipeline_file(CONFIG_PATH)"
   ]
  },
  {
   "cell_type": "code",
   "execution_count": 12,
   "metadata": {},
   "outputs": [
    {
     "data": {
      "text/plain": [
       "{'model': ssd {\n",
       "   num_classes: 24\n",
       "   image_resizer {\n",
       "     fixed_shape_resizer {\n",
       "       height: 320\n",
       "       width: 320\n",
       "     }\n",
       "   }\n",
       "   feature_extractor {\n",
       "     type: \"ssd_mobilenet_v2_fpn_keras\"\n",
       "     depth_multiplier: 1.0\n",
       "     min_depth: 16\n",
       "     conv_hyperparams {\n",
       "       regularizer {\n",
       "         l2_regularizer {\n",
       "           weight: 3.9999998989515007e-05\n",
       "         }\n",
       "       }\n",
       "       initializer {\n",
       "         random_normal_initializer {\n",
       "           mean: 0.0\n",
       "           stddev: 0.009999999776482582\n",
       "         }\n",
       "       }\n",
       "       activation: RELU_6\n",
       "       batch_norm {\n",
       "         decay: 0.996999979019165\n",
       "         scale: true\n",
       "         epsilon: 0.0010000000474974513\n",
       "       }\n",
       "     }\n",
       "     use_depthwise: true\n",
       "     override_base_feature_extractor_hyperparams: true\n",
       "     fpn {\n",
       "       min_level: 3\n",
       "       max_level: 7\n",
       "       additional_layer_depth: 128\n",
       "     }\n",
       "   }\n",
       "   box_coder {\n",
       "     faster_rcnn_box_coder {\n",
       "       y_scale: 10.0\n",
       "       x_scale: 10.0\n",
       "       height_scale: 5.0\n",
       "       width_scale: 5.0\n",
       "     }\n",
       "   }\n",
       "   matcher {\n",
       "     argmax_matcher {\n",
       "       matched_threshold: 0.5\n",
       "       unmatched_threshold: 0.5\n",
       "       ignore_thresholds: false\n",
       "       negatives_lower_than_unmatched: true\n",
       "       force_match_for_each_row: true\n",
       "       use_matmul_gather: true\n",
       "     }\n",
       "   }\n",
       "   similarity_calculator {\n",
       "     iou_similarity {\n",
       "     }\n",
       "   }\n",
       "   box_predictor {\n",
       "     weight_shared_convolutional_box_predictor {\n",
       "       conv_hyperparams {\n",
       "         regularizer {\n",
       "           l2_regularizer {\n",
       "             weight: 3.9999998989515007e-05\n",
       "           }\n",
       "         }\n",
       "         initializer {\n",
       "           random_normal_initializer {\n",
       "             mean: 0.0\n",
       "             stddev: 0.009999999776482582\n",
       "           }\n",
       "         }\n",
       "         activation: RELU_6\n",
       "         batch_norm {\n",
       "           decay: 0.996999979019165\n",
       "           scale: true\n",
       "           epsilon: 0.0010000000474974513\n",
       "         }\n",
       "       }\n",
       "       depth: 128\n",
       "       num_layers_before_predictor: 4\n",
       "       kernel_size: 3\n",
       "       class_prediction_bias_init: -4.599999904632568\n",
       "       share_prediction_tower: true\n",
       "       use_depthwise: true\n",
       "     }\n",
       "   }\n",
       "   anchor_generator {\n",
       "     multiscale_anchor_generator {\n",
       "       min_level: 3\n",
       "       max_level: 7\n",
       "       anchor_scale: 4.0\n",
       "       aspect_ratios: 1.0\n",
       "       aspect_ratios: 2.0\n",
       "       aspect_ratios: 0.5\n",
       "       scales_per_octave: 2\n",
       "     }\n",
       "   }\n",
       "   post_processing {\n",
       "     batch_non_max_suppression {\n",
       "       score_threshold: 9.99999993922529e-09\n",
       "       iou_threshold: 0.6000000238418579\n",
       "       max_detections_per_class: 100\n",
       "       max_total_detections: 100\n",
       "       use_static_shapes: false\n",
       "     }\n",
       "     score_converter: SIGMOID\n",
       "   }\n",
       "   normalize_loss_by_num_matches: true\n",
       "   loss {\n",
       "     localization_loss {\n",
       "       weighted_smooth_l1 {\n",
       "       }\n",
       "     }\n",
       "     classification_loss {\n",
       "       weighted_sigmoid_focal {\n",
       "         gamma: 2.0\n",
       "         alpha: 0.25\n",
       "       }\n",
       "     }\n",
       "     classification_weight: 1.0\n",
       "     localization_weight: 1.0\n",
       "   }\n",
       "   encode_background_as_zeros: true\n",
       "   normalize_loc_loss_by_codesize: true\n",
       "   inplace_batchnorm_update: true\n",
       "   freeze_batchnorm: false\n",
       " },\n",
       " 'train_config': batch_size: 4\n",
       " data_augmentation_options {\n",
       "   random_horizontal_flip {\n",
       "   }\n",
       " }\n",
       " data_augmentation_options {\n",
       "   random_crop_image {\n",
       "     min_object_covered: 0.0\n",
       "     min_aspect_ratio: 0.75\n",
       "     max_aspect_ratio: 3.0\n",
       "     min_area: 0.75\n",
       "     max_area: 1.0\n",
       "     overlap_thresh: 0.0\n",
       "   }\n",
       " }\n",
       " sync_replicas: true\n",
       " optimizer {\n",
       "   momentum_optimizer {\n",
       "     learning_rate {\n",
       "       cosine_decay_learning_rate {\n",
       "         learning_rate_base: 0.07999999821186066\n",
       "         total_steps: 50000\n",
       "         warmup_learning_rate: 0.026666000485420227\n",
       "         warmup_steps: 1000\n",
       "       }\n",
       "     }\n",
       "     momentum_optimizer_value: 0.8999999761581421\n",
       "   }\n",
       "   use_moving_average: false\n",
       " }\n",
       " fine_tune_checkpoint: \"Tensorflow/workspace/pre-trained-models/ssd_mobilenet_v2_fpnlite_320x320_coco17_tpu-8/checkpoint/ckpt-0\"\n",
       " num_steps: 50000\n",
       " startup_delay_steps: 0.0\n",
       " replicas_to_aggregate: 8\n",
       " max_number_of_boxes: 100\n",
       " unpad_groundtruth_tensors: false\n",
       " fine_tune_checkpoint_type: \"detection\"\n",
       " fine_tune_checkpoint_version: V2,\n",
       " 'train_input_config': label_map_path: \"Tensorflow/workspace/annotations/label_map.pbtxt\"\n",
       " tf_record_input_reader {\n",
       "   input_path: \"Tensorflow/workspace/annotations/train.record\"\n",
       " },\n",
       " 'eval_config': metrics_set: \"coco_detection_metrics\"\n",
       " use_moving_averages: false,\n",
       " 'eval_input_configs': [label_map_path: \"Tensorflow/workspace/annotations/label_map.pbtxt\"\n",
       " shuffle: false\n",
       " num_epochs: 1\n",
       " tf_record_input_reader {\n",
       "   input_path: \"Tensorflow/workspace/annotations/test.record\"\n",
       " }\n",
       " ],\n",
       " 'eval_input_config': label_map_path: \"Tensorflow/workspace/annotations/label_map.pbtxt\"\n",
       " shuffle: false\n",
       " num_epochs: 1\n",
       " tf_record_input_reader {\n",
       "   input_path: \"Tensorflow/workspace/annotations/test.record\"\n",
       " }}"
      ]
     },
     "execution_count": 12,
     "metadata": {},
     "output_type": "execute_result"
    }
   ],
   "source": [
    "config"
   ]
  },
  {
   "cell_type": "code",
   "execution_count": 10,
   "metadata": {},
   "outputs": [],
   "source": [
    "pipeline_config = pipeline_pb2.TrainEvalPipelineConfig()\n",
    "with tf.io.gfile.GFile(CONFIG_PATH, \"r\") as f:                                                                                                                                                                                                                     \n",
    "    proto_str = f.read()                                                                                                                                                                                                                                          \n",
    "    text_format.Merge(proto_str, pipeline_config)  "
   ]
  },
  {
   "cell_type": "code",
   "execution_count": 11,
   "metadata": {},
   "outputs": [],
   "source": [
    "pipeline_config.model.ssd.num_classes = 24\n",
    "pipeline_config.train_config.batch_size = 4\n",
    "pipeline_config.train_config.fine_tune_checkpoint = PRETRAINED_MODEL_PATH+'/ssd_mobilenet_v2_fpnlite_320x320_coco17_tpu-8/checkpoint/ckpt-0'\n",
    "pipeline_config.train_config.fine_tune_checkpoint_type = \"detection\"\n",
    "pipeline_config.train_input_reader.label_map_path= ANNOTATION_PATH + '/label_map.pbtxt'\n",
    "pipeline_config.train_input_reader.tf_record_input_reader.input_path[:] = [ANNOTATION_PATH + '/train.record']\n",
    "pipeline_config.eval_input_reader[0].label_map_path = ANNOTATION_PATH + '/label_map.pbtxt'\n",
    "pipeline_config.eval_input_reader[0].tf_record_input_reader.input_path[:] = [ANNOTATION_PATH + '/test.record']"
   ]
  },
  {
   "cell_type": "code",
   "execution_count": 12,
   "metadata": {},
   "outputs": [],
   "source": [
    "config_text = text_format.MessageToString(pipeline_config)                                                                                                                                                                                                        \n",
    "with tf.io.gfile.GFile(CONFIG_PATH, \"wb\") as f:                                                                                                                                                                                                                     \n",
    "    f.write(config_text)   "
   ]
  },
  {
   "cell_type": "markdown",
   "metadata": {},
   "source": [
    "# 6. Train the model"
   ]
  },
  {
   "cell_type": "code",
   "execution_count": 17,
   "metadata": {},
   "outputs": [
    {
     "name": "stdout",
     "output_type": "stream",
     "text": [
      "python Tensorflow/models/research/object_detection/model_main_tf2.py --model_dir=Tensorflow/workspace/models/my_ssd_mobnet --pipeline_config_path=Tensorflow/workspace/models/my_ssd_mobnet/pipeline.config --num_train_steps=20000\n"
     ]
    }
   ],
   "source": [
    "print(\"\"\"python {}/research/object_detection/model_main_tf2.py --model_dir={}/{} --pipeline_config_path={}/{}/pipeline.config --num_train_steps=20000\"\"\".format(APIMODEL_PATH, MODEL_PATH,CUSTOM_MODEL_NAME,MODEL_PATH,CUSTOM_MODEL_NAME))"
   ]
  },
  {
   "cell_type": "markdown",
   "metadata": {},
   "source": [
    "# 7. Load Train Model From Checkpoint"
   ]
  },
  {
   "cell_type": "code",
   "execution_count": 13,
   "metadata": {},
   "outputs": [],
   "source": [
    "import os\n",
    "from object_detection.utils import label_map_util\n",
    "from object_detection.utils import visualization_utils as viz_utils\n",
    "from object_detection.builders import model_builder"
   ]
  },
  {
   "cell_type": "code",
   "execution_count": 14,
   "metadata": {},
   "outputs": [],
   "source": [
    "# Load pipeline config and build a detection model\n",
    "configs = config_util.get_configs_from_pipeline_file(CONFIG_PATH)\n",
    "detection_model = model_builder.build(model_config=configs['model'], is_training=False)\n",
    "\n",
    "# Restore checkpoint\n",
    "ckpt = tf.compat.v2.train.Checkpoint(model=detection_model)\n",
    "ckpt.restore(os.path.join(CHECKPOINT_PATH, 'ckpt-21')).expect_partial()\n",
    "\n",
    "@tf.function\n",
    "def detect_fn(image):\n",
    "    image, shapes = detection_model.preprocess(image)\n",
    "    prediction_dict = detection_model.predict(image, shapes)\n",
    "    detections = detection_model.postprocess(prediction_dict, shapes)\n",
    "    return detections"
   ]
  },
  {
   "cell_type": "markdown",
   "metadata": {},
   "source": [
    "# 8. Detect in Real-Time"
   ]
  },
  {
   "cell_type": "code",
   "execution_count": 15,
   "metadata": {},
   "outputs": [],
   "source": [
    "import cv2 \n",
    "import numpy as np"
   ]
  },
  {
   "cell_type": "code",
   "execution_count": 16,
   "metadata": {},
   "outputs": [],
   "source": [
    "category_index = label_map_util.create_category_index_from_labelmap(ANNOTATION_PATH+'/label_map.pbtxt')"
   ]
  },
  {
   "cell_type": "code",
   "execution_count": 26,
   "metadata": {},
   "outputs": [
    {
     "ename": "NameError",
     "evalue": "name 'cap' is not defined",
     "output_type": "error",
     "traceback": [
      "\u001b[1;31m---------------------------------------------------------------------------\u001b[0m",
      "\u001b[1;31mNameError\u001b[0m                                 Traceback (most recent call last)",
      "Cell \u001b[1;32mIn[26], line 1\u001b[0m\n\u001b[1;32m----> 1\u001b[0m \u001b[43mcap\u001b[49m\u001b[38;5;241m.\u001b[39mrelease()\n",
      "\u001b[1;31mNameError\u001b[0m: name 'cap' is not defined"
     ]
    }
   ],
   "source": [
    "cap.release()"
   ]
  },
  {
   "cell_type": "code",
   "execution_count": 19,
   "metadata": {},
   "outputs": [],
   "source": [
    "# Setup capture\n",
    "cap = cv2.VideoCapture(0)\n",
    "width = int(cap.get(cv2.CAP_PROP_FRAME_WIDTH))\n",
    "height = int(cap.get(cv2.CAP_PROP_FRAME_HEIGHT))"
   ]
  },
  {
   "cell_type": "code",
   "execution_count": 20,
   "metadata": {},
   "outputs": [],
   "source": [
    "while True: \n",
    "    ret, frame = cap.read()\n",
    "    image_np = np.array(frame)\n",
    "    \n",
    "    input_tensor = tf.convert_to_tensor(np.expand_dims(image_np, 0), dtype=tf.float32)\n",
    "    detections = detect_fn(input_tensor)\n",
    "    \n",
    "    num_detections = int(detections.pop('num_detections'))\n",
    "    detections = {key: value[0, :num_detections].numpy()\n",
    "                  for key, value in detections.items()}\n",
    "    detections['num_detections'] = num_detections\n",
    "\n",
    "    # detection_classes should be ints.\n",
    "    detections['detection_classes'] = detections['detection_classes'].astype(np.int64)\n",
    "\n",
    "    label_id_offset = 1\n",
    "    image_np_with_detections = image_np.copy()\n",
    "\n",
    "    viz_utils.visualize_boxes_and_labels_on_image_array(\n",
    "                image_np_with_detections,\n",
    "                detections['detection_boxes'],\n",
    "                detections['detection_classes']+label_id_offset,\n",
    "                detections['detection_scores'],\n",
    "                category_index,\n",
    "                use_normalized_coordinates=True,\n",
    "                max_boxes_to_draw=5,\n",
    "                min_score_thresh=.5,\n",
    "                agnostic_mode=False)\n",
    "\n",
    "    cv2.imshow('object detection',  cv2.resize(image_np_with_detections, (800, 600)))\n",
    "    \n",
    "    if cv2.waitKey(1) & 0xFF == ord('q'):\n",
    "        cap.release()\n",
    "        break"
   ]
  },
  {
   "cell_type": "code",
   "execution_count": null,
   "metadata": {},
   "outputs": [],
   "source": [
    "detections = detect_fn(input_tensor)"
   ]
  },
  {
   "cell_type": "code",
   "execution_count": null,
   "metadata": {},
   "outputs": [],
   "source": [
    "from matplotlib import pyplot as plt"
   ]
  },
  {
   "cell_type": "code",
   "execution_count": null,
   "metadata": {},
   "outputs": [],
   "source": []
  }
 ],
 "metadata": {
  "kernelspec": {
   "display_name": "Python 3 (ipykernel)",
   "language": "python",
   "name": "python3"
  },
  "language_info": {
   "codemirror_mode": {
    "name": "ipython",
    "version": 3
   },
   "file_extension": ".py",
   "mimetype": "text/x-python",
   "name": "python",
   "nbconvert_exporter": "python",
   "pygments_lexer": "ipython3",
   "version": "3.10.9"
  }
 },
 "nbformat": 4,
 "nbformat_minor": 2
}
