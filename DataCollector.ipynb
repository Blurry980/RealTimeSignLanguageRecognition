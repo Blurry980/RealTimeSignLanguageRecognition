{
 "cells": [
  {
   "cell_type": "markdown",
   "id": "e4110b72",
   "metadata": {},
   "source": [
    "### Installed opencv, labelImg, etc"
   ]
  },
  {
   "cell_type": "code",
   "execution_count": 1,
   "id": "6a5d7909",
   "metadata": {},
   "outputs": [],
   "source": [
    "#!pip install opencv-python\n",
    "#!pip install labelImg\n",
    "#!pip install --upgrade pyqt5 lxml\n",
    "#!pip list\n",
    "#!qmake --version\n",
    "#!pip install pyqt5\n",
    "#!pip uninstall pyqt5\n",
    "#!pip install pyqt5\n",
    "# import PyQt5.QtCore\n",
    "# import sip\n",
    "# from PyQt5.QTGui import *"
   ]
  },
  {
   "cell_type": "markdown",
   "id": "597ba143",
   "metadata": {},
   "source": [
    "### Imported Dependencies"
   ]
  },
  {
   "cell_type": "code",
   "execution_count": 2,
   "id": "0907bbb9",
   "metadata": {},
   "outputs": [],
   "source": [
    "import cv2 #opencv\n",
    "import time #gives us time so we can move hands while collecting images\n",
    "import uuid #used to name image files\n",
    "import os #helps work with file paths"
   ]
  },
  {
   "cell_type": "code",
   "execution_count": 3,
   "id": "33a30d0a",
   "metadata": {},
   "outputs": [],
   "source": [
    "IMAGES_PATH = 'Tensorflow/workspace/images/collectedimages'\n"
   ]
  },
  {
   "cell_type": "code",
   "execution_count": 4,
   "id": "8aa94b7f",
   "metadata": {},
   "outputs": [],
   "source": [
    "# import subprocess\n",
    "\n",
    "# subprocess.run(['labelImg'])"
   ]
  },
  {
   "cell_type": "markdown",
   "id": "4444a184",
   "metadata": {},
   "source": [
    "### Cloned labeImg package"
   ]
  },
  {
   "cell_type": "code",
   "execution_count": 5,
   "id": "23184fbb",
   "metadata": {},
   "outputs": [],
   "source": [
    "LABELIMG_PATH = os.path.join('Tensorflow', 'labelimg')\n",
    "\n",
    "if not os.path.exists(LABELIMG_PATH):\n",
    "    !mkdir {LABELIMG_PATH}\n",
    "    !git clone https://github.com/heartexlabs/labelImg {LABELIMG_PATH}"
   ]
  },
  {
   "cell_type": "code",
   "execution_count": 6,
   "id": "e73a350e",
   "metadata": {},
   "outputs": [
    {
     "name": "stderr",
     "output_type": "stream",
     "text": [
      "'pyrcc5' is not recognized as an internal or external command,\n",
      "operable program or batch file.\n"
     ]
    }
   ],
   "source": [
    "if os.name == 'posix':\n",
    "    !cd {LABELIMG_PATH} && make qt5py3\n",
    "if os.name == 'nt':\n",
    "    !cd {LABELIMG_PATH} && pyrcc5 -o libs/resources.py resources.qrc\n",
    "\n",
    "#!cd {LABELIMG_PATH} && python labelImg.py"
   ]
  },
  {
   "cell_type": "markdown",
   "id": "390cc381",
   "metadata": {},
   "source": [
    "### With the help of ChatGBT, I was able to come up with code that allowed me to have more control over when images are captured and when to move to the next letter by keyboard presses."
   ]
  },
  {
   "cell_type": "code",
   "execution_count": 7,
   "id": "4ce24bd0",
   "metadata": {},
   "outputs": [
    {
     "name": "stdout",
     "output_type": "stream",
     "text": [
      "Going to next letter: b\n",
      "Going to next letter: c\n",
      "Going to next letter: d\n",
      "Going to next letter: e\n",
      "Going to next letter: f\n",
      "Tensorflow/workspace/images/collectedimages\\f\\f.4972ee16-e6d6-11ed-8f50-9cfce869da1a.jpg written!\n",
      "Tensorflow/workspace/images/collectedimages\\f\\f.4e821d3b-e6d6-11ed-8e34-9cfce869da1a.jpg written!\n",
      "Tensorflow/workspace/images/collectedimages\\f\\f.4fd239e8-e6d6-11ed-ba4a-9cfce869da1a.jpg written!\n",
      "Tensorflow/workspace/images/collectedimages\\f\\f.54142a09-e6d6-11ed-a5ac-9cfce869da1a.jpg written!\n",
      "Tensorflow/workspace/images/collectedimages\\f\\f.56b27713-e6d6-11ed-9384-9cfce869da1a.jpg written!\n",
      "Tensorflow/workspace/images/collectedimages\\f\\f.5ba7dc24-e6d6-11ed-9ed2-9cfce869da1a.jpg written!\n",
      "Tensorflow/workspace/images/collectedimages\\f\\f.5fda0763-e6d6-11ed-8366-9cfce869da1a.jpg written!\n",
      "Tensorflow/workspace/images/collectedimages\\f\\f.63e2eb12-e6d6-11ed-95cd-9cfce869da1a.jpg written!\n",
      "Tensorflow/workspace/images/collectedimages\\f\\f.656ebe88-e6d6-11ed-ab14-9cfce869da1a.jpg written!\n",
      "Tensorflow/workspace/images/collectedimages\\f\\f.6a32b049-e6d6-11ed-b030-9cfce869da1a.jpg written!\n",
      "Tensorflow/workspace/images/collectedimages\\f\\f.6bd0ccb2-e6d6-11ed-8a0a-9cfce869da1a.jpg written!\n",
      "Tensorflow/workspace/images/collectedimages\\f\\f.6d713310-e6d6-11ed-91c9-9cfce869da1a.jpg written!\n",
      "Going to next letter: g\n",
      "Going to next letter: h\n",
      "Going to next letter: i\n",
      "Going to next letter: k\n",
      "Going to next letter: l\n",
      "Going to next letter: m\n",
      "Tensorflow/workspace/images/collectedimages\\m\\m.92f5ada6-e6d6-11ed-be4f-9cfce869da1a.jpg written!\n",
      "Tensorflow/workspace/images/collectedimages\\m\\m.9472d4c5-e6d6-11ed-babb-9cfce869da1a.jpg written!\n",
      "Tensorflow/workspace/images/collectedimages\\m\\m.974ed0e2-e6d6-11ed-9f8c-9cfce869da1a.jpg written!\n",
      "Tensorflow/workspace/images/collectedimages\\m\\m.98f590a3-e6d6-11ed-94eb-9cfce869da1a.jpg written!\n",
      "Tensorflow/workspace/images/collectedimages\\m\\m.9a4dbd3c-e6d6-11ed-84e2-9cfce869da1a.jpg written!\n",
      "Tensorflow/workspace/images/collectedimages\\m\\m.9d7829f6-e6d6-11ed-afd5-9cfce869da1a.jpg written!\n",
      "Tensorflow/workspace/images/collectedimages\\m\\m.ae139809-e6d6-11ed-8f1c-9cfce869da1a.jpg written!\n",
      "Tensorflow/workspace/images/collectedimages\\m\\m.b0469e6e-e6d6-11ed-ad96-9cfce869da1a.jpg written!\n",
      "Tensorflow/workspace/images/collectedimages\\m\\m.b369d0a1-e6d6-11ed-b0cf-9cfce869da1a.jpg written!\n",
      "Tensorflow/workspace/images/collectedimages\\m\\m.b58a6744-e6d6-11ed-a06c-9cfce869da1a.jpg written!\n",
      "Tensorflow/workspace/images/collectedimages\\m\\m.b7b68625-e6d6-11ed-86bf-9cfce869da1a.jpg written!\n",
      "Tensorflow/workspace/images/collectedimages\\m\\m.b955d49e-e6d6-11ed-b63b-9cfce869da1a.jpg written!\n",
      "Tensorflow/workspace/images/collectedimages\\m\\m.bbb81e1a-e6d6-11ed-8482-9cfce869da1a.jpg written!\n",
      "Going to next letter: n\n",
      "Tensorflow/workspace/images/collectedimages\\n\\n.4c93b47b-e6d7-11ed-aeb6-9cfce869da1a.jpg written!\n",
      "Tensorflow/workspace/images/collectedimages\\n\\n.5072fdc9-e6d7-11ed-99dc-9cfce869da1a.jpg written!\n",
      "Tensorflow/workspace/images/collectedimages\\n\\n.5165e69b-e6d7-11ed-8f8e-9cfce869da1a.jpg written!\n",
      "Tensorflow/workspace/images/collectedimages\\n\\n.525128e4-e6d7-11ed-963f-9cfce869da1a.jpg written!\n",
      "Tensorflow/workspace/images/collectedimages\\n\\n.535cd61f-e6d7-11ed-9a12-9cfce869da1a.jpg written!\n",
      "Tensorflow/workspace/images/collectedimages\\n\\n.5520b8b5-e6d7-11ed-87fa-9cfce869da1a.jpg written!\n",
      "Tensorflow/workspace/images/collectedimages\\n\\n.5a837d77-e6d7-11ed-9192-9cfce869da1a.jpg written!\n",
      "Tensorflow/workspace/images/collectedimages\\n\\n.5bb57687-e6d7-11ed-974b-9cfce869da1a.jpg written!\n",
      "Tensorflow/workspace/images/collectedimages\\n\\n.5ce62e42-e6d7-11ed-9d5d-9cfce869da1a.jpg written!\n",
      "Tensorflow/workspace/images/collectedimages\\n\\n.5e4174c9-e6d7-11ed-94d9-9cfce869da1a.jpg written!\n",
      "Tensorflow/workspace/images/collectedimages\\n\\n.5ffb053c-e6d7-11ed-880e-9cfce869da1a.jpg written!\n",
      "Tensorflow/workspace/images/collectedimages\\n\\n.61b47439-e6d7-11ed-961e-9cfce869da1a.jpg written!\n",
      "Going to next letter: o\n",
      "Going to next letter: p\n",
      "Going to next letter: q\n",
      "Going to next letter: r\n",
      "Tensorflow/workspace/images/collectedimages\\r\\r.7b74c669-e6d7-11ed-a251-9cfce869da1a.jpg written!\n",
      "Tensorflow/workspace/images/collectedimages\\r\\r.7e513a50-e6d7-11ed-be11-9cfce869da1a.jpg written!\n",
      "Tensorflow/workspace/images/collectedimages\\r\\r.7fba7666-e6d7-11ed-895d-9cfce869da1a.jpg written!\n",
      "Tensorflow/workspace/images/collectedimages\\r\\r.81b16a4c-e6d7-11ed-b241-9cfce869da1a.jpg written!\n",
      "Tensorflow/workspace/images/collectedimages\\r\\r.8354dd57-e6d7-11ed-a4cb-9cfce869da1a.jpg written!\n",
      "Tensorflow/workspace/images/collectedimages\\r\\r.858b482f-e6d7-11ed-b6be-9cfce869da1a.jpg written!\n",
      "Tensorflow/workspace/images/collectedimages\\r\\r.8deda466-e6d7-11ed-94de-9cfce869da1a.jpg written!\n",
      "Tensorflow/workspace/images/collectedimages\\r\\r.8fc9d63a-e6d7-11ed-afbf-9cfce869da1a.jpg written!\n",
      "Tensorflow/workspace/images/collectedimages\\r\\r.91bbd0c3-e6d7-11ed-8ce6-9cfce869da1a.jpg written!\n",
      "Tensorflow/workspace/images/collectedimages\\r\\r.9397e289-e6d7-11ed-b8c3-9cfce869da1a.jpg written!\n",
      "Tensorflow/workspace/images/collectedimages\\r\\r.94bb2dcb-e6d7-11ed-9aaa-9cfce869da1a.jpg written!\n",
      "Tensorflow/workspace/images/collectedimages\\r\\r.96dce0c3-e6d7-11ed-bfaf-9cfce869da1a.jpg written!\n",
      "Going to next letter: s\n",
      "Tensorflow/workspace/images/collectedimages\\s\\s.da4cf890-e6d7-11ed-aff7-9cfce869da1a.jpg written!\n",
      "Tensorflow/workspace/images/collectedimages\\s\\s.dd87a704-e6d7-11ed-8638-9cfce869da1a.jpg written!\n",
      "Tensorflow/workspace/images/collectedimages\\s\\s.e0109eb4-e6d7-11ed-a9b7-9cfce869da1a.jpg written!\n",
      "Tensorflow/workspace/images/collectedimages\\s\\s.e1d7f0a4-e6d7-11ed-8407-9cfce869da1a.jpg written!\n",
      "Tensorflow/workspace/images/collectedimages\\s\\s.e403327d-e6d7-11ed-a3e9-9cfce869da1a.jpg written!\n",
      "Tensorflow/workspace/images/collectedimages\\s\\s.e5264ad1-e6d7-11ed-a665-9cfce869da1a.jpg written!\n",
      "Tensorflow/workspace/images/collectedimages\\s\\s.e9eae0ef-e6d7-11ed-b41b-9cfce869da1a.jpg written!\n",
      "Tensorflow/workspace/images/collectedimages\\s\\s.eb080ab2-e6d7-11ed-b44d-9cfce869da1a.jpg written!\n",
      "Tensorflow/workspace/images/collectedimages\\s\\s.ed37d475-e6d7-11ed-a827-9cfce869da1a.jpg written!\n",
      "Tensorflow/workspace/images/collectedimages\\s\\s.ee512620-e6d7-11ed-8514-9cfce869da1a.jpg written!\n",
      "Tensorflow/workspace/images/collectedimages\\s\\s.eff4cdb5-e6d7-11ed-ae3d-9cfce869da1a.jpg written!\n",
      "Tensorflow/workspace/images/collectedimages\\s\\s.f1c0094b-e6d7-11ed-85c8-9cfce869da1a.jpg written!\n",
      "Going to next letter: t\n",
      "Tensorflow/workspace/images/collectedimages\\t\\t.16884170-e6d8-11ed-a3b0-9cfce869da1a.jpg written!\n",
      "Tensorflow/workspace/images/collectedimages\\t\\t.1881f05e-e6d8-11ed-95c4-9cfce869da1a.jpg written!\n",
      "Tensorflow/workspace/images/collectedimages\\t\\t.19f50f13-e6d8-11ed-8d84-9cfce869da1a.jpg written!\n",
      "Tensorflow/workspace/images/collectedimages\\t\\t.1b25e6c8-e6d8-11ed-8b29-9cfce869da1a.jpg written!\n",
      "Tensorflow/workspace/images/collectedimages\\t\\t.1c2acd62-e6d8-11ed-a690-9cfce869da1a.jpg written!\n",
      "Tensorflow/workspace/images/collectedimages\\t\\t.1de65def-e6d8-11ed-8e65-9cfce869da1a.jpg written!\n",
      "Tensorflow/workspace/images/collectedimages\\t\\t.26d9a068-e6d8-11ed-9579-9cfce869da1a.jpg written!\n",
      "Tensorflow/workspace/images/collectedimages\\t\\t.2834344d-e6d8-11ed-8d03-9cfce869da1a.jpg written!\n",
      "Tensorflow/workspace/images/collectedimages\\t\\t.2993da40-e6d8-11ed-ab49-9cfce869da1a.jpg written!\n",
      "Tensorflow/workspace/images/collectedimages\\t\\t.2b449dd4-e6d8-11ed-ab44-9cfce869da1a.jpg written!\n",
      "Tensorflow/workspace/images/collectedimages\\t\\t.2c61ab46-e6d8-11ed-a3dc-9cfce869da1a.jpg written!\n",
      "Tensorflow/workspace/images/collectedimages\\t\\t.2f2e2d44-e6d8-11ed-bfc8-9cfce869da1a.jpg written!\n",
      "Going to next letter: u\n",
      "Tensorflow/workspace/images/collectedimages\\u\\u.3b661b26-e6d8-11ed-8c69-9cfce869da1a.jpg written!\n",
      "Tensorflow/workspace/images/collectedimages\\u\\u.3cdeb49a-e6d8-11ed-add3-9cfce869da1a.jpg written!\n",
      "Tensorflow/workspace/images/collectedimages\\u\\u.3eeb4282-e6d8-11ed-ac9d-9cfce869da1a.jpg written!\n",
      "Tensorflow/workspace/images/collectedimages\\u\\u.40bb4a28-e6d8-11ed-aebf-9cfce869da1a.jpg written!\n",
      "Tensorflow/workspace/images/collectedimages\\u\\u.4266d4cc-e6d8-11ed-8037-9cfce869da1a.jpg written!\n",
      "Tensorflow/workspace/images/collectedimages\\u\\u.43897635-e6d8-11ed-9203-9cfce869da1a.jpg written!\n"
     ]
    },
    {
     "name": "stdout",
     "output_type": "stream",
     "text": [
      "Tensorflow/workspace/images/collectedimages\\u\\u.44fcb866-e6d8-11ed-8412-9cfce869da1a.jpg written!\n",
      "Tensorflow/workspace/images/collectedimages\\u\\u.4a0cb524-e6d8-11ed-8904-9cfce869da1a.jpg written!\n",
      "Tensorflow/workspace/images/collectedimages\\u\\u.4b1ca572-e6d8-11ed-b223-9cfce869da1a.jpg written!\n",
      "Tensorflow/workspace/images/collectedimages\\u\\u.4c23e763-e6d8-11ed-bd78-9cfce869da1a.jpg written!\n",
      "Tensorflow/workspace/images/collectedimages\\u\\u.4d7187ea-e6d8-11ed-a467-9cfce869da1a.jpg written!\n",
      "Tensorflow/workspace/images/collectedimages\\u\\u.4e763146-e6d8-11ed-8de2-9cfce869da1a.jpg written!\n",
      "Tensorflow/workspace/images/collectedimages\\u\\u.4f83c456-e6d8-11ed-91b3-9cfce869da1a.jpg written!\n",
      "Going to next letter: v\n",
      "Tensorflow/workspace/images/collectedimages\\v\\v.67610fca-e6d8-11ed-8287-9cfce869da1a.jpg written!\n",
      "Tensorflow/workspace/images/collectedimages\\v\\v.68a9a82f-e6d8-11ed-a01e-9cfce869da1a.jpg written!\n",
      "Tensorflow/workspace/images/collectedimages\\v\\v.69d8777a-e6d8-11ed-b759-9cfce869da1a.jpg written!\n",
      "Tensorflow/workspace/images/collectedimages\\v\\v.6c49aba8-e6d8-11ed-bb5a-9cfce869da1a.jpg written!\n",
      "Tensorflow/workspace/images/collectedimages\\v\\v.6e1e2502-e6d8-11ed-9944-9cfce869da1a.jpg written!\n",
      "Tensorflow/workspace/images/collectedimages\\v\\v.703003a8-e6d8-11ed-8006-9cfce869da1a.jpg written!\n",
      "Tensorflow/workspace/images/collectedimages\\v\\v.734922c1-e6d8-11ed-8b3c-9cfce869da1a.jpg written!\n",
      "Tensorflow/workspace/images/collectedimages\\v\\v.7614a5e5-e6d8-11ed-abac-9cfce869da1a.jpg written!\n",
      "Tensorflow/workspace/images/collectedimages\\v\\v.77d58eb2-e6d8-11ed-aa47-9cfce869da1a.jpg written!\n",
      "Tensorflow/workspace/images/collectedimages\\v\\v.79b98552-e6d8-11ed-a348-9cfce869da1a.jpg written!\n",
      "Tensorflow/workspace/images/collectedimages\\v\\v.7ae7cf13-e6d8-11ed-ba7f-9cfce869da1a.jpg written!\n",
      "Tensorflow/workspace/images/collectedimages\\v\\v.7d23999d-e6d8-11ed-9339-9cfce869da1a.jpg written!\n",
      "Going to next letter: w\n",
      "Tensorflow/workspace/images/collectedimages\\w\\w.9c7ad25e-e6d8-11ed-a49a-9cfce869da1a.jpg written!\n",
      "Tensorflow/workspace/images/collectedimages\\w\\w.9e620ac1-e6d8-11ed-8066-9cfce869da1a.jpg written!\n",
      "Tensorflow/workspace/images/collectedimages\\w\\w.a036ceae-e6d8-11ed-a42c-9cfce869da1a.jpg written!\n",
      "Tensorflow/workspace/images/collectedimages\\w\\w.a3044d55-e6d8-11ed-a10e-9cfce869da1a.jpg written!\n",
      "Tensorflow/workspace/images/collectedimages\\w\\w.a477a975-e6d8-11ed-a4ba-9cfce869da1a.jpg written!\n",
      "Tensorflow/workspace/images/collectedimages\\w\\w.a5cb2ddc-e6d8-11ed-8bf4-9cfce869da1a.jpg written!\n",
      "Tensorflow/workspace/images/collectedimages\\w\\w.a82390fc-e6d8-11ed-aa06-9cfce869da1a.jpg written!\n",
      "Tensorflow/workspace/images/collectedimages\\w\\w.a9a30605-e6d8-11ed-94c5-9cfce869da1a.jpg written!\n",
      "Tensorflow/workspace/images/collectedimages\\w\\w.ab421f79-e6d8-11ed-bd50-9cfce869da1a.jpg written!\n",
      "Tensorflow/workspace/images/collectedimages\\w\\w.acb0475e-e6d8-11ed-bfbc-9cfce869da1a.jpg written!\n",
      "Tensorflow/workspace/images/collectedimages\\w\\w.ae0ace58-e6d8-11ed-8d49-9cfce869da1a.jpg written!\n",
      "Tensorflow/workspace/images/collectedimages\\w\\w.af91a9c4-e6d8-11ed-a569-9cfce869da1a.jpg written!\n",
      "Quitting...\n"
     ]
    }
   ],
   "source": [
    "# Set up the directory structure\n",
    "labels = ['a', 'b', 'c', 'd', 'e', 'f', 'g', 'h', 'i', 'k', 'l', 'm', 'n', 'o', 'p', 'q', 'r', 's', 't', 'u', 'v', 'w', 'x', 'y']\n",
    "# if not os.path.exists('dataset'):\n",
    "#     os.makedirs('dataset')\n",
    "for label in labels:\n",
    "    !mkdir {'Tensorflow\\workspace\\images\\collectedimages\\\\'+label}\n",
    "#     if not os.path.exists('dataset/'+label):\n",
    "#         os.makedirs('dataset/'+label)\n",
    "\n",
    "# Set up the webcam\n",
    "cap = cv2.VideoCapture(0)\n",
    "\n",
    "# Initialize the current letter and image count\n",
    "current_letter = 0\n",
    "image_count = 0\n",
    "\n",
    "while True:\n",
    "    # Capture frame-by-frame\n",
    "    ret, frame = cap.read()\n",
    "\n",
    "    # Display the frame\n",
    "    cv2.imshow('frame', frame)\n",
    "\n",
    "    # Check for user input\n",
    "    key = cv2.waitKey(1) & 0xFF\n",
    "\n",
    "    # Take an image if the user presses the spacebar\n",
    "    if key == ord(' '):\n",
    "        # Save the image to the appropriate directory\n",
    "        label = labels[current_letter]\n",
    "        #filename = 'dataset/'+label+'/'+str(image_count)+'.jpg'\n",
    "        filename = os.path.join(IMAGES_PATH, label, label+'.'+'{}.jpg'.format(str(uuid.uuid1())))\n",
    "        cv2.imwrite(filename, frame)\n",
    "        print('{} written!'.format(filename))\n",
    "        image_count += 1\n",
    "\n",
    "    # Move to the next letter if the user presses a key\n",
    "    if key == ord('n'):\n",
    "        current_letter += 1\n",
    "        print(f\"Going to next letter: {labels[current_letter]}\")\n",
    "        image_count = 0\n",
    "        if current_letter >= len(labels):\n",
    "            break\n",
    "            \n",
    "    if key == ord('q'):\n",
    "        print(\"Quitting...\")\n",
    "        break\n",
    "\n",
    "# Release the capture and close the window\n",
    "cap.release()\n",
    "cv2.destroyAllWindows()\n"
   ]
  },
  {
   "cell_type": "code",
   "execution_count": null,
   "id": "214b668f",
   "metadata": {},
   "outputs": [],
   "source": []
  },
  {
   "cell_type": "code",
   "execution_count": null,
   "id": "c9481ffd",
   "metadata": {},
   "outputs": [],
   "source": []
  },
  {
   "cell_type": "code",
   "execution_count": null,
   "id": "57097c83",
   "metadata": {},
   "outputs": [],
   "source": []
  }
 ],
 "metadata": {
  "kernelspec": {
   "display_name": "Python 3 (ipykernel)",
   "language": "python",
   "name": "python3"
  },
  "language_info": {
   "codemirror_mode": {
    "name": "ipython",
    "version": 3
   },
   "file_extension": ".py",
   "mimetype": "text/x-python",
   "name": "python",
   "nbconvert_exporter": "python",
   "pygments_lexer": "ipython3",
   "version": "3.10.9"
  }
 },
 "nbformat": 4,
 "nbformat_minor": 5
}
