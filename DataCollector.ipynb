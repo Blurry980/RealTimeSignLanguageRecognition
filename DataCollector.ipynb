{
 "cells": [
  {
   "cell_type": "markdown",
   "id": "e4110b72",
   "metadata": {},
   "source": [
    "### Installed opencv, labelImg, etc"
   ]
  },
  {
   "cell_type": "code",
   "execution_count": 9,
   "id": "6a5d7909",
   "metadata": {},
   "outputs": [
    {
     "ename": "ModuleNotFoundError",
     "evalue": "No module named 'PyQt5.QTGui'",
     "output_type": "error",
     "traceback": [
      "\u001b[1;31m---------------------------------------------------------------------------\u001b[0m",
      "\u001b[1;31mModuleNotFoundError\u001b[0m                       Traceback (most recent call last)",
      "\u001b[1;32m~\\AppData\\Local\\Temp\\ipykernel_23440\\3342192761.py\u001b[0m in \u001b[0;36m<module>\u001b[1;34m\u001b[0m\n\u001b[0;32m      9\u001b[0m \u001b[1;32mimport\u001b[0m \u001b[0mPyQt5\u001b[0m\u001b[1;33m.\u001b[0m\u001b[0mQtCore\u001b[0m\u001b[1;33m\u001b[0m\u001b[1;33m\u001b[0m\u001b[0m\n\u001b[0;32m     10\u001b[0m \u001b[1;32mimport\u001b[0m \u001b[0msip\u001b[0m\u001b[1;33m\u001b[0m\u001b[1;33m\u001b[0m\u001b[0m\n\u001b[1;32m---> 11\u001b[1;33m \u001b[1;32mfrom\u001b[0m \u001b[0mPyQt5\u001b[0m\u001b[1;33m.\u001b[0m\u001b[0mQTGui\u001b[0m \u001b[1;32mimport\u001b[0m \u001b[1;33m*\u001b[0m\u001b[1;33m\u001b[0m\u001b[1;33m\u001b[0m\u001b[0m\n\u001b[0m",
      "\u001b[1;31mModuleNotFoundError\u001b[0m: No module named 'PyQt5.QTGui'"
     ]
    }
   ],
   "source": [
    "#!pip install opencv-python\n",
    "#!pip install labelImg\n",
    "#!pip install --upgrade pyqt5 lxml\n",
    "#!pip list\n",
    "#!qmake --version\n",
    "#!pip install pyqt5\n",
    "#!pip uninstall pyqt5\n",
    "#!pip install pyqt5\n",
    "# import PyQt5.QtCore\n",
    "# import sip\n",
    "# from PyQt5.QTGui import *"
   ]
  },
  {
   "cell_type": "markdown",
   "id": "597ba143",
   "metadata": {},
   "source": [
    "### Imported Dependencies"
   ]
  },
  {
   "cell_type": "code",
   "execution_count": 2,
   "id": "0907bbb9",
   "metadata": {},
   "outputs": [],
   "source": [
    "import cv2 #opencv\n",
    "import time #gives us time so we can move hands while collecting images\n",
    "import uuid #used to name image files\n",
    "import os #helps work with file paths"
   ]
  },
  {
   "cell_type": "code",
   "execution_count": 3,
   "id": "33a30d0a",
   "metadata": {},
   "outputs": [],
   "source": [
    "IMAGES_PATH = 'Tensorflow/workspace/images/collectedimages'\n"
   ]
  },
  {
   "cell_type": "code",
   "execution_count": 10,
   "id": "8aa94b7f",
   "metadata": {},
   "outputs": [
    {
     "ename": "FileNotFoundError",
     "evalue": "[WinError 2] The system cannot find the file specified",
     "output_type": "error",
     "traceback": [
      "\u001b[1;31m---------------------------------------------------------------------------\u001b[0m",
      "\u001b[1;31mFileNotFoundError\u001b[0m                         Traceback (most recent call last)",
      "\u001b[1;32m~\\AppData\\Local\\Temp\\ipykernel_23440\\1423696932.py\u001b[0m in \u001b[0;36m<module>\u001b[1;34m\u001b[0m\n\u001b[0;32m      1\u001b[0m \u001b[1;32mimport\u001b[0m \u001b[0msubprocess\u001b[0m\u001b[1;33m\u001b[0m\u001b[1;33m\u001b[0m\u001b[0m\n\u001b[0;32m      2\u001b[0m \u001b[1;33m\u001b[0m\u001b[0m\n\u001b[1;32m----> 3\u001b[1;33m \u001b[0msubprocess\u001b[0m\u001b[1;33m.\u001b[0m\u001b[0mrun\u001b[0m\u001b[1;33m(\u001b[0m\u001b[1;33m[\u001b[0m\u001b[1;34m'labelImg'\u001b[0m\u001b[1;33m]\u001b[0m\u001b[1;33m)\u001b[0m\u001b[1;33m\u001b[0m\u001b[1;33m\u001b[0m\u001b[0m\n\u001b[0m",
      "\u001b[1;32m~\\anaconda3\\lib\\subprocess.py\u001b[0m in \u001b[0;36mrun\u001b[1;34m(input, capture_output, timeout, check, *popenargs, **kwargs)\u001b[0m\n\u001b[0;32m    503\u001b[0m         \u001b[0mkwargs\u001b[0m\u001b[1;33m[\u001b[0m\u001b[1;34m'stderr'\u001b[0m\u001b[1;33m]\u001b[0m \u001b[1;33m=\u001b[0m \u001b[0mPIPE\u001b[0m\u001b[1;33m\u001b[0m\u001b[1;33m\u001b[0m\u001b[0m\n\u001b[0;32m    504\u001b[0m \u001b[1;33m\u001b[0m\u001b[0m\n\u001b[1;32m--> 505\u001b[1;33m     \u001b[1;32mwith\u001b[0m \u001b[0mPopen\u001b[0m\u001b[1;33m(\u001b[0m\u001b[1;33m*\u001b[0m\u001b[0mpopenargs\u001b[0m\u001b[1;33m,\u001b[0m \u001b[1;33m**\u001b[0m\u001b[0mkwargs\u001b[0m\u001b[1;33m)\u001b[0m \u001b[1;32mas\u001b[0m \u001b[0mprocess\u001b[0m\u001b[1;33m:\u001b[0m\u001b[1;33m\u001b[0m\u001b[1;33m\u001b[0m\u001b[0m\n\u001b[0m\u001b[0;32m    506\u001b[0m         \u001b[1;32mtry\u001b[0m\u001b[1;33m:\u001b[0m\u001b[1;33m\u001b[0m\u001b[1;33m\u001b[0m\u001b[0m\n\u001b[0;32m    507\u001b[0m             \u001b[0mstdout\u001b[0m\u001b[1;33m,\u001b[0m \u001b[0mstderr\u001b[0m \u001b[1;33m=\u001b[0m \u001b[0mprocess\u001b[0m\u001b[1;33m.\u001b[0m\u001b[0mcommunicate\u001b[0m\u001b[1;33m(\u001b[0m\u001b[0minput\u001b[0m\u001b[1;33m,\u001b[0m \u001b[0mtimeout\u001b[0m\u001b[1;33m=\u001b[0m\u001b[0mtimeout\u001b[0m\u001b[1;33m)\u001b[0m\u001b[1;33m\u001b[0m\u001b[1;33m\u001b[0m\u001b[0m\n",
      "\u001b[1;32m~\\anaconda3\\lib\\subprocess.py\u001b[0m in \u001b[0;36m__init__\u001b[1;34m(self, args, bufsize, executable, stdin, stdout, stderr, preexec_fn, close_fds, shell, cwd, env, universal_newlines, startupinfo, creationflags, restore_signals, start_new_session, pass_fds, user, group, extra_groups, encoding, errors, text, umask)\u001b[0m\n\u001b[0;32m    949\u001b[0m                             encoding=encoding, errors=errors)\n\u001b[0;32m    950\u001b[0m \u001b[1;33m\u001b[0m\u001b[0m\n\u001b[1;32m--> 951\u001b[1;33m             self._execute_child(args, executable, preexec_fn, close_fds,\n\u001b[0m\u001b[0;32m    952\u001b[0m                                 \u001b[0mpass_fds\u001b[0m\u001b[1;33m,\u001b[0m \u001b[0mcwd\u001b[0m\u001b[1;33m,\u001b[0m \u001b[0menv\u001b[0m\u001b[1;33m,\u001b[0m\u001b[1;33m\u001b[0m\u001b[1;33m\u001b[0m\u001b[0m\n\u001b[0;32m    953\u001b[0m                                 \u001b[0mstartupinfo\u001b[0m\u001b[1;33m,\u001b[0m \u001b[0mcreationflags\u001b[0m\u001b[1;33m,\u001b[0m \u001b[0mshell\u001b[0m\u001b[1;33m,\u001b[0m\u001b[1;33m\u001b[0m\u001b[1;33m\u001b[0m\u001b[0m\n",
      "\u001b[1;32m~\\anaconda3\\lib\\subprocess.py\u001b[0m in \u001b[0;36m_execute_child\u001b[1;34m(self, args, executable, preexec_fn, close_fds, pass_fds, cwd, env, startupinfo, creationflags, shell, p2cread, p2cwrite, c2pread, c2pwrite, errread, errwrite, unused_restore_signals, unused_gid, unused_gids, unused_uid, unused_umask, unused_start_new_session)\u001b[0m\n\u001b[0;32m   1418\u001b[0m             \u001b[1;31m# Start the process\u001b[0m\u001b[1;33m\u001b[0m\u001b[1;33m\u001b[0m\u001b[0m\n\u001b[0;32m   1419\u001b[0m             \u001b[1;32mtry\u001b[0m\u001b[1;33m:\u001b[0m\u001b[1;33m\u001b[0m\u001b[1;33m\u001b[0m\u001b[0m\n\u001b[1;32m-> 1420\u001b[1;33m                 hp, ht, pid, tid = _winapi.CreateProcess(executable, args,\n\u001b[0m\u001b[0;32m   1421\u001b[0m                                          \u001b[1;31m# no special security\u001b[0m\u001b[1;33m\u001b[0m\u001b[1;33m\u001b[0m\u001b[0m\n\u001b[0;32m   1422\u001b[0m                                          \u001b[1;32mNone\u001b[0m\u001b[1;33m,\u001b[0m \u001b[1;32mNone\u001b[0m\u001b[1;33m,\u001b[0m\u001b[1;33m\u001b[0m\u001b[1;33m\u001b[0m\u001b[0m\n",
      "\u001b[1;31mFileNotFoundError\u001b[0m: [WinError 2] The system cannot find the file specified"
     ]
    }
   ],
   "source": [
    "# import subprocess\n",
    "\n",
    "# subprocess.run(['labelImg'])"
   ]
  },
  {
   "cell_type": "markdown",
   "id": "4444a184",
   "metadata": {},
   "source": [
    "### Cloned labeImg package"
   ]
  },
  {
   "cell_type": "code",
   "execution_count": 4,
   "id": "23184fbb",
   "metadata": {},
   "outputs": [],
   "source": [
    "LABELIMG_PATH = os.path.join('Tensorflow', 'labelimg')\n",
    "\n",
    "if not os.path.exists(LABELIMG_PATH):\n",
    "    !mkdir {LABELIMG_PATH}\n",
    "    !git clone https://github.com/heartexlabs/labelImg {LABELIMG_PATH}"
   ]
  },
  {
   "cell_type": "code",
   "execution_count": 5,
   "id": "e73a350e",
   "metadata": {},
   "outputs": [],
   "source": [
    "if os.name == 'posix':\n",
    "    !cd {LABELIMG_PATH} && make qt5py3\n",
    "if os.name == 'nt':\n",
    "    !cd {LABELIMG_PATH} && pyrcc5 -o libs/resources.py resources.qrc\n",
    "\n",
    "#!cd {LABELIMG_PATH} && python labelImg.py"
   ]
  },
  {
   "cell_type": "markdown",
   "id": "390cc381",
   "metadata": {},
   "source": [
    "### With the help of ChatGBT, I was able to come up with code that allowed me to have more control over when images are captured and when to move to the next letter by keyboard presses."
   ]
  },
  {
   "cell_type": "code",
   "execution_count": 6,
   "id": "4ce24bd0",
   "metadata": {},
   "outputs": [
    {
     "name": "stderr",
     "output_type": "stream",
     "text": [
      "A subdirectory or file Tensorflow\\workspace\\images\\collectedimages\\a already exists.\n",
      "A subdirectory or file Tensorflow\\workspace\\images\\collectedimages\\b already exists.\n",
      "A subdirectory or file Tensorflow\\workspace\\images\\collectedimages\\c already exists.\n",
      "A subdirectory or file Tensorflow\\workspace\\images\\collectedimages\\d already exists.\n",
      "A subdirectory or file Tensorflow\\workspace\\images\\collectedimages\\e already exists.\n",
      "A subdirectory or file Tensorflow\\workspace\\images\\collectedimages\\f already exists.\n",
      "A subdirectory or file Tensorflow\\workspace\\images\\collectedimages\\g already exists.\n",
      "A subdirectory or file Tensorflow\\workspace\\images\\collectedimages\\h already exists.\n",
      "A subdirectory or file Tensorflow\\workspace\\images\\collectedimages\\i already exists.\n",
      "A subdirectory or file Tensorflow\\workspace\\images\\collectedimages\\k already exists.\n",
      "A subdirectory or file Tensorflow\\workspace\\images\\collectedimages\\l already exists.\n",
      "A subdirectory or file Tensorflow\\workspace\\images\\collectedimages\\m already exists.\n",
      "A subdirectory or file Tensorflow\\workspace\\images\\collectedimages\\n already exists.\n",
      "A subdirectory or file Tensorflow\\workspace\\images\\collectedimages\\o already exists.\n",
      "A subdirectory or file Tensorflow\\workspace\\images\\collectedimages\\p already exists.\n",
      "A subdirectory or file Tensorflow\\workspace\\images\\collectedimages\\q already exists.\n",
      "A subdirectory or file Tensorflow\\workspace\\images\\collectedimages\\r already exists.\n",
      "A subdirectory or file Tensorflow\\workspace\\images\\collectedimages\\s already exists.\n",
      "A subdirectory or file Tensorflow\\workspace\\images\\collectedimages\\t already exists.\n",
      "A subdirectory or file Tensorflow\\workspace\\images\\collectedimages\\u already exists.\n",
      "A subdirectory or file Tensorflow\\workspace\\images\\collectedimages\\v already exists.\n",
      "A subdirectory or file Tensorflow\\workspace\\images\\collectedimages\\w already exists.\n",
      "A subdirectory or file Tensorflow\\workspace\\images\\collectedimages\\x already exists.\n",
      "A subdirectory or file Tensorflow\\workspace\\images\\collectedimages\\y already exists.\n"
     ]
    },
    {
     "name": "stdout",
     "output_type": "stream",
     "text": [
      "Going to next letter: b\n",
      "Going to next letter: c\n",
      "Going to next letter: d\n",
      "Going to next letter: e\n",
      "Going to next letter: f\n",
      "Going to next letter: g\n",
      "Going to next letter: h\n",
      "Going to next letter: i\n",
      "Going to next letter: k\n",
      "Going to next letter: l\n",
      "Going to next letter: m\n",
      "Going to next letter: n\n",
      "Going to next letter: o\n",
      "Going to next letter: p\n",
      "Going to next letter: q\n",
      "Going to next letter: r\n",
      "Going to next letter: s\n",
      "Going to next letter: t\n",
      "Going to next letter: u\n",
      "Going to next letter: v\n",
      "Going to next letter: w\n",
      "Tensorflow/workspace/images/collectedimages\\w\\w.270e1d1b-bde4-11ed-aa24-9cfce869da1a.jpg written!\n",
      "Tensorflow/workspace/images/collectedimages\\w\\w.273800bd-bde4-11ed-b367-9cfce869da1a.jpg written!\n",
      "Tensorflow/workspace/images/collectedimages\\w\\w.277728d5-bde4-11ed-ad09-9cfce869da1a.jpg written!\n",
      "Tensorflow/workspace/images/collectedimages\\w\\w.27a7c8f1-bde4-11ed-87d1-9cfce869da1a.jpg written!\n",
      "Tensorflow/workspace/images/collectedimages\\w\\w.27d67224-bde4-11ed-9fcc-9cfce869da1a.jpg written!\n",
      "Tensorflow/workspace/images/collectedimages\\w\\w.284de87a-bde4-11ed-9ea1-9cfce869da1a.jpg written!\n",
      "Tensorflow/workspace/images/collectedimages\\w\\w.2888a103-bde4-11ed-8633-9cfce869da1a.jpg written!\n",
      "Tensorflow/workspace/images/collectedimages\\w\\w.28bbfd05-bde4-11ed-b8f2-9cfce869da1a.jpg written!\n",
      "Tensorflow/workspace/images/collectedimages\\w\\w.28f1c213-bde4-11ed-85ec-9cfce869da1a.jpg written!\n",
      "Tensorflow/workspace/images/collectedimages\\w\\w.2920077a-bde4-11ed-ae38-9cfce869da1a.jpg written!\n",
      "Tensorflow/workspace/images/collectedimages\\w\\w.29a17bed-bde4-11ed-a6e4-9cfce869da1a.jpg written!\n",
      "Tensorflow/workspace/images/collectedimages\\w\\w.29d4f229-bde4-11ed-9b77-9cfce869da1a.jpg written!\n",
      "Tensorflow/workspace/images/collectedimages\\w\\w.2a056ae0-bde4-11ed-ba8c-9cfce869da1a.jpg written!\n",
      "Tensorflow/workspace/images/collectedimages\\w\\w.2a3911f2-bde4-11ed-bd0f-9cfce869da1a.jpg written!\n",
      "Tensorflow/workspace/images/collectedimages\\w\\w.2a69a96b-bde4-11ed-99af-9cfce869da1a.jpg written!\n",
      "Tensorflow/workspace/images/collectedimages\\w\\w.2b521722-bde4-11ed-bb36-9cfce869da1a.jpg written!\n",
      "Tensorflow/workspace/images/collectedimages\\w\\w.2b8736e6-bde4-11ed-8dbc-9cfce869da1a.jpg written!\n",
      "Tensorflow/workspace/images/collectedimages\\w\\w.2bb6052a-bde4-11ed-bd9e-9cfce869da1a.jpg written!\n",
      "Tensorflow/workspace/images/collectedimages\\w\\w.2beb63b5-bde4-11ed-bc8b-9cfce869da1a.jpg written!\n",
      "Tensorflow/workspace/images/collectedimages\\w\\w.2c237b1d-bde4-11ed-8e5d-9cfce869da1a.jpg written!\n",
      "Tensorflow/workspace/images/collectedimages\\w\\w.2db456cf-bde4-11ed-8edf-9cfce869da1a.jpg written!\n",
      "Tensorflow/workspace/images/collectedimages\\w\\w.2de5261d-bde4-11ed-ab0f-9cfce869da1a.jpg written!\n",
      "Tensorflow/workspace/images/collectedimages\\w\\w.2e17f9b2-bde4-11ed-adfa-9cfce869da1a.jpg written!\n",
      "Tensorflow/workspace/images/collectedimages\\w\\w.2e40f66a-bde4-11ed-888a-9cfce869da1a.jpg written!\n",
      "Tensorflow/workspace/images/collectedimages\\w\\w.2ed6f958-bde4-11ed-a5db-9cfce869da1a.jpg written!\n",
      "Tensorflow/workspace/images/collectedimages\\w\\w.2f07abf1-bde4-11ed-b915-9cfce869da1a.jpg written!\n",
      "Tensorflow/workspace/images/collectedimages\\w\\w.2f3b9ab3-bde4-11ed-8a6e-9cfce869da1a.jpg written!\n",
      "Tensorflow/workspace/images/collectedimages\\w\\w.2f6c726f-bde4-11ed-8e96-9cfce869da1a.jpg written!\n",
      "Tensorflow/workspace/images/collectedimages\\w\\w.2f9feae4-bde4-11ed-9482-9cfce869da1a.jpg written!\n",
      "Tensorflow/workspace/images/collectedimages\\w\\w.306737f8-bde4-11ed-b04c-9cfce869da1a.jpg written!\n",
      "Tensorflow/workspace/images/collectedimages\\w\\w.3093baba-bde4-11ed-a4f7-9cfce869da1a.jpg written!\n",
      "Tensorflow/workspace/images/collectedimages\\w\\w.30c60b29-bde4-11ed-b9b4-9cfce869da1a.jpg written!\n",
      "Tensorflow/workspace/images/collectedimages\\w\\w.31c71f5d-bde4-11ed-81e1-9cfce869da1a.jpg written!\n",
      "Tensorflow/workspace/images/collectedimages\\w\\w.32013ee0-bde4-11ed-a582-9cfce869da1a.jpg written!\n",
      "Tensorflow/workspace/images/collectedimages\\w\\w.322b7941-bde4-11ed-9486-9cfce869da1a.jpg written!\n",
      "Tensorflow/workspace/images/collectedimages\\w\\w.325c240d-bde4-11ed-88cb-9cfce869da1a.jpg written!\n",
      "Tensorflow/workspace/images/collectedimages\\w\\w.32f39c0c-bde4-11ed-ba9b-9cfce869da1a.jpg written!\n",
      "Tensorflow/workspace/images/collectedimages\\w\\w.332442e4-bde4-11ed-ae8b-9cfce869da1a.jpg written!\n",
      "Tensorflow/workspace/images/collectedimages\\w\\w.33483d51-bde4-11ed-b1e6-9cfce869da1a.jpg written!\n",
      "Tensorflow/workspace/images/collectedimages\\w\\w.3374ad2f-bde4-11ed-bb1f-9cfce869da1a.jpg written!\n",
      "Tensorflow/workspace/images/collectedimages\\w\\w.33a4e58d-bde4-11ed-a9f3-9cfce869da1a.jpg written!\n",
      "Tensorflow/workspace/images/collectedimages\\w\\w.353373d2-bde4-11ed-81fd-9cfce869da1a.jpg written!\n",
      "Tensorflow/workspace/images/collectedimages\\w\\w.35645677-bde4-11ed-b3c3-9cfce869da1a.jpg written!\n",
      "Tensorflow/workspace/images/collectedimages\\w\\w.358fb00e-bde4-11ed-80dc-9cfce869da1a.jpg written!\n",
      "Tensorflow/workspace/images/collectedimages\\w\\w.360e7e4e-bde4-11ed-8ac6-9cfce869da1a.jpg written!\n",
      "Tensorflow/workspace/images/collectedimages\\w\\w.363699d7-bde4-11ed-9b6c-9cfce869da1a.jpg written!\n",
      "Tensorflow/workspace/images/collectedimages\\w\\w.366072bc-bde4-11ed-8161-9cfce869da1a.jpg written!\n",
      "Tensorflow/workspace/images/collectedimages\\w\\w.368b2264-bde4-11ed-8699-9cfce869da1a.jpg written!\n",
      "Quitting...\n"
     ]
    }
   ],
   "source": [
    "# Set up the directory structure\n",
    "labels = ['a', 'b', 'c', 'd', 'e', 'f', 'g', 'h', 'i', 'k', 'l', 'm', 'n', 'o', 'p', 'q', 'r', 's', 't', 'u', 'v', 'w', 'x', 'y']\n",
    "# if not os.path.exists('dataset'):\n",
    "#     os.makedirs('dataset')\n",
    "for label in labels:\n",
    "    !mkdir {'Tensorflow\\workspace\\images\\collectedimages\\\\'+label}\n",
    "#     if not os.path.exists('dataset/'+label):\n",
    "#         os.makedirs('dataset/'+label)\n",
    "\n",
    "# Set up the webcam\n",
    "cap = cv2.VideoCapture(0)\n",
    "\n",
    "# Initialize the current letter and image count\n",
    "current_letter = 0\n",
    "image_count = 0\n",
    "\n",
    "while True:\n",
    "    # Capture frame-by-frame\n",
    "    ret, frame = cap.read()\n",
    "\n",
    "    # Display the frame\n",
    "    cv2.imshow('frame', frame)\n",
    "\n",
    "    # Check for user input\n",
    "    key = cv2.waitKey(1) & 0xFF\n",
    "\n",
    "    # Take an image if the user presses the spacebar\n",
    "    if key == ord(' '):\n",
    "        # Save the image to the appropriate directory\n",
    "        label = labels[current_letter]\n",
    "        #filename = 'dataset/'+label+'/'+str(image_count)+'.jpg'\n",
    "        filename = os.path.join(IMAGES_PATH, label, label+'.'+'{}.jpg'.format(str(uuid.uuid1())))\n",
    "        cv2.imwrite(filename, frame)\n",
    "        print('{} written!'.format(filename))\n",
    "        image_count += 1\n",
    "\n",
    "    # Move to the next letter if the user presses a key\n",
    "    if key == ord('n'):\n",
    "        current_letter += 1\n",
    "        print(f\"Going to next letter: {labels[current_letter]}\")\n",
    "        image_count = 0\n",
    "        if current_letter >= len(labels):\n",
    "            break\n",
    "            \n",
    "    if key == ord('q'):\n",
    "        print(\"Quitting...\")\n",
    "        break\n",
    "\n",
    "# Release the capture and close the window\n",
    "cap.release()\n",
    "cv2.destroyAllWindows()\n"
   ]
  },
  {
   "cell_type": "code",
   "execution_count": null,
   "id": "214b668f",
   "metadata": {},
   "outputs": [],
   "source": []
  },
  {
   "cell_type": "code",
   "execution_count": null,
   "id": "c9481ffd",
   "metadata": {},
   "outputs": [],
   "source": []
  },
  {
   "cell_type": "code",
   "execution_count": null,
   "id": "57097c83",
   "metadata": {},
   "outputs": [],
   "source": []
  }
 ],
 "metadata": {
  "kernelspec": {
   "display_name": "Python 3 (ipykernel)",
   "language": "python",
   "name": "python3"
  },
  "language_info": {
   "codemirror_mode": {
    "name": "ipython",
    "version": 3
   },
   "file_extension": ".py",
   "mimetype": "text/x-python",
   "name": "python",
   "nbconvert_exporter": "python",
   "pygments_lexer": "ipython3",
   "version": "3.10.9"
  }
 },
 "nbformat": 4,
 "nbformat_minor": 5
}
