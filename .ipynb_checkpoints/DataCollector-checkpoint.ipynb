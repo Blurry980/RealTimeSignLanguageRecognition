{
 "cells": [
  {
   "cell_type": "markdown",
   "id": "e4110b72",
   "metadata": {},
   "source": [
    "Installed opencv"
   ]
  },
  {
   "cell_type": "code",
   "execution_count": 2,
   "id": "6a5d7909",
   "metadata": {},
   "outputs": [],
   "source": [
    "#!pip install opencv-python\n",
    "\n"
   ]
  },
  {
   "cell_type": "markdown",
   "id": "597ba143",
   "metadata": {},
   "source": [
    "Imported Dependencies"
   ]
  },
  {
   "cell_type": "code",
   "execution_count": 3,
   "id": "0907bbb9",
   "metadata": {},
   "outputs": [],
   "source": [
    "import cv2 #opencv\n",
    "import time #gives us time so we can move hands while collecting images\n",
    "import uuid #used to name image files\n",
    "import os #helps work with file paths"
   ]
  },
  {
   "cell_type": "code",
   "execution_count": 4,
   "id": "33a30d0a",
   "metadata": {},
   "outputs": [],
   "source": [
    "IMAGES_PATH = 'Tensorflow/workspace/images/collectedimages'"
   ]
  },
  {
   "cell_type": "code",
   "execution_count": 10,
   "id": "41b4c2ee",
   "metadata": {},
   "outputs": [],
   "source": [
    "labels = ['b','c']\n",
    "#'d', 'e', 'f', 'g', 'h', 'i', 'k', 'l', 'm', 'n', 'o', 'p', 'q', 'r', 's', 't', 'u', 'v', 'w', 'x', 'y', 'z', 'wrong']\n",
    "number_imgs = 5"
   ]
  },
  {
   "cell_type": "markdown",
   "id": "390cc381",
   "metadata": {},
   "source": [
    "Loops through each label and creates directory for each one.\n",
    "Starts webcam video capture  via cv2.VideoCapture(0).\n",
    "Sleep allows us to get in correct position.\n",
    "Loop through number of images and ensure that each has individual name.\n",
    "Write to directory and show on screen.\n",
    "Sleep agains so we can get into annother pose.\n",
    "Release."
   ]
  },
  {
   "cell_type": "code",
   "execution_count": 12,
   "id": "4ce24bd0",
   "metadata": {},
   "outputs": [
    {
     "name": "stderr",
     "output_type": "stream",
     "text": [
      "A subdirectory or file Tensorflow\\workspace\\images\\collectedimages\\b already exists.\n"
     ]
    },
    {
     "name": "stdout",
     "output_type": "stream",
     "text": [
      "Collecting images for b\n"
     ]
    },
    {
     "name": "stderr",
     "output_type": "stream",
     "text": [
      "A subdirectory or file Tensorflow\\workspace\\images\\collectedimages\\c already exists.\n"
     ]
    },
    {
     "name": "stdout",
     "output_type": "stream",
     "text": [
      "Collecting images for c\n"
     ]
    }
   ],
   "source": [
    "for label in labels:\n",
    "    !mkdir {'Tensorflow\\workspace\\images\\collectedimages\\\\'+label}\n",
    "    cap = cv2.VideoCapture(0)\n",
    "    print('Collecting images for {}'.format(label))\n",
    "    time.sleep(5)\n",
    "    for img_num in range(number_imgs):\n",
    "        ret, frame = cap.read()\n",
    "        img_name = os.path.join(IMAGES_PATH, label, label+'.'+'{}.jpg'.format(str(uuid.uuid1())))\n",
    "        cv2.imwrite(img_name, frame)\n",
    "        cv2.imshow('frame', frame)\n",
    "        time.sleep(2)\n",
    "        \n",
    "        if cv2.waitKey(1) & 0xFF == ord('q'):\n",
    "            break\n",
    "    cap.release()"
   ]
  }
 ],
 "metadata": {
  "kernelspec": {
   "display_name": "Python 3 (ipykernel)",
   "language": "python",
   "name": "python3"
  },
  "language_info": {
   "codemirror_mode": {
    "name": "ipython",
    "version": 3
   },
   "file_extension": ".py",
   "mimetype": "text/x-python",
   "name": "python",
   "nbconvert_exporter": "python",
   "pygments_lexer": "ipython3",
   "version": "3.9.13"
  }
 },
 "nbformat": 4,
 "nbformat_minor": 5
}
